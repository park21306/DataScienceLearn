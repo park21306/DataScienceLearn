{
 "cells":[
  {
   "cell_type":"markdown",
   "source":[
    "# **Intermediate Pandas**"
   ],
   "attachments":{
    
   },
   "metadata":{
    "datalore":{
     "node_id":"1KVifQtpnIdJYb4BQYYWH5",
     "type":"MD",
     "hide_input_from_viewers":false,
     "hide_output_from_viewers":false
    }
   }
  },
  {
   "cell_type":"code",
   "source":[
    "import pandas as pd"
   ],
   "execution_count":1,
   "outputs":[
    
   ],
   "metadata":{
    "datalore":{
     "node_id":"bdz1TtrNszB6IqO9e75wrw",
     "type":"CODE",
     "hide_input_from_viewers":false,
     "hide_output_from_viewers":false
    }
   }
  },
  {
   "cell_type":"code",
   "source":[
    "penguins = pd.read_csv('penguins.csv')"
   ],
   "execution_count":2,
   "outputs":[
    
   ],
   "metadata":{
    "datalore":{
     "node_id":"r7uD0Rx79BMzjaxZdnyWF5",
     "type":"CODE",
     "hide_input_from_viewers":false,
     "hide_output_from_viewers":false
    }
   }
  },
  {
   "cell_type":"code",
   "source":[
    "# preview first 5 rows\n",
    "penguins.head()"
   ],
   "execution_count":3,
   "outputs":[
    {
     "data":{
      "text\/html":[
       "<div>\n",
       "<style scoped>\n",
       "    .dataframe tbody tr th:only-of-type {\n",
       "        vertical-align: middle;\n",
       "    }\n",
       "\n",
       "    .dataframe tbody tr th {\n",
       "        vertical-align: top;\n",
       "    }\n",
       "\n",
       "    .dataframe thead th {\n",
       "        text-align: right;\n",
       "    }\n",
       "<\/style>\n",
       "<table border=\"1\" class=\"dataframe\">\n",
       "  <thead>\n",
       "    <tr style=\"text-align: right;\">\n",
       "      <th><\/th>\n",
       "      <th>species<\/th>\n",
       "      <th>island<\/th>\n",
       "      <th>bill_length_mm<\/th>\n",
       "      <th>bill_depth_mm<\/th>\n",
       "      <th>flipper_length_mm<\/th>\n",
       "      <th>body_mass_g<\/th>\n",
       "      <th>sex<\/th>\n",
       "    <\/tr>\n",
       "  <\/thead>\n",
       "  <tbody>\n",
       "    <tr>\n",
       "      <th>0<\/th>\n",
       "      <td>Adelie<\/td>\n",
       "      <td>Torgersen<\/td>\n",
       "      <td>39.1<\/td>\n",
       "      <td>18.7<\/td>\n",
       "      <td>181.0<\/td>\n",
       "      <td>3750.0<\/td>\n",
       "      <td>MALE<\/td>\n",
       "    <\/tr>\n",
       "    <tr>\n",
       "      <th>1<\/th>\n",
       "      <td>Adelie<\/td>\n",
       "      <td>Torgersen<\/td>\n",
       "      <td>39.5<\/td>\n",
       "      <td>17.4<\/td>\n",
       "      <td>186.0<\/td>\n",
       "      <td>3800.0<\/td>\n",
       "      <td>FEMALE<\/td>\n",
       "    <\/tr>\n",
       "    <tr>\n",
       "      <th>2<\/th>\n",
       "      <td>Adelie<\/td>\n",
       "      <td>Torgersen<\/td>\n",
       "      <td>40.3<\/td>\n",
       "      <td>18.0<\/td>\n",
       "      <td>195.0<\/td>\n",
       "      <td>3250.0<\/td>\n",
       "      <td>FEMALE<\/td>\n",
       "    <\/tr>\n",
       "    <tr>\n",
       "      <th>3<\/th>\n",
       "      <td>Adelie<\/td>\n",
       "      <td>Torgersen<\/td>\n",
       "      <td>NaN<\/td>\n",
       "      <td>NaN<\/td>\n",
       "      <td>NaN<\/td>\n",
       "      <td>NaN<\/td>\n",
       "      <td>NaN<\/td>\n",
       "    <\/tr>\n",
       "    <tr>\n",
       "      <th>4<\/th>\n",
       "      <td>Adelie<\/td>\n",
       "      <td>Torgersen<\/td>\n",
       "      <td>36.7<\/td>\n",
       "      <td>19.3<\/td>\n",
       "      <td>193.0<\/td>\n",
       "      <td>3450.0<\/td>\n",
       "      <td>FEMALE<\/td>\n",
       "    <\/tr>\n",
       "  <\/tbody>\n",
       "<\/table>\n",
       "<\/div>"
      ]
     },
     "metadata":{
      
     },
     "output_type":"display_data"
    }
   ],
   "metadata":{
    "datalore":{
     "node_id":"eLbucR416zNpZtmgBTIicY",
     "type":"CODE",
     "hide_input_from_viewers":false,
     "hide_output_from_viewers":false
    }
   }
  },
  {
   "cell_type":"code",
   "source":[
    "# preview last 5 rows\n",
    "penguins.tail()"
   ],
   "execution_count":4,
   "outputs":[
    {
     "data":{
      "text\/html":[
       "<div>\n",
       "<style scoped>\n",
       "    .dataframe tbody tr th:only-of-type {\n",
       "        vertical-align: middle;\n",
       "    }\n",
       "\n",
       "    .dataframe tbody tr th {\n",
       "        vertical-align: top;\n",
       "    }\n",
       "\n",
       "    .dataframe thead th {\n",
       "        text-align: right;\n",
       "    }\n",
       "<\/style>\n",
       "<table border=\"1\" class=\"dataframe\">\n",
       "  <thead>\n",
       "    <tr style=\"text-align: right;\">\n",
       "      <th><\/th>\n",
       "      <th>species<\/th>\n",
       "      <th>island<\/th>\n",
       "      <th>bill_length_mm<\/th>\n",
       "      <th>bill_depth_mm<\/th>\n",
       "      <th>flipper_length_mm<\/th>\n",
       "      <th>body_mass_g<\/th>\n",
       "      <th>sex<\/th>\n",
       "    <\/tr>\n",
       "  <\/thead>\n",
       "  <tbody>\n",
       "    <tr>\n",
       "      <th>339<\/th>\n",
       "      <td>Gentoo<\/td>\n",
       "      <td>Biscoe<\/td>\n",
       "      <td>NaN<\/td>\n",
       "      <td>NaN<\/td>\n",
       "      <td>NaN<\/td>\n",
       "      <td>NaN<\/td>\n",
       "      <td>NaN<\/td>\n",
       "    <\/tr>\n",
       "    <tr>\n",
       "      <th>340<\/th>\n",
       "      <td>Gentoo<\/td>\n",
       "      <td>Biscoe<\/td>\n",
       "      <td>46.8<\/td>\n",
       "      <td>14.3<\/td>\n",
       "      <td>215.0<\/td>\n",
       "      <td>4850.0<\/td>\n",
       "      <td>FEMALE<\/td>\n",
       "    <\/tr>\n",
       "    <tr>\n",
       "      <th>341<\/th>\n",
       "      <td>Gentoo<\/td>\n",
       "      <td>Biscoe<\/td>\n",
       "      <td>50.4<\/td>\n",
       "      <td>15.7<\/td>\n",
       "      <td>222.0<\/td>\n",
       "      <td>5750.0<\/td>\n",
       "      <td>MALE<\/td>\n",
       "    <\/tr>\n",
       "    <tr>\n",
       "      <th>342<\/th>\n",
       "      <td>Gentoo<\/td>\n",
       "      <td>Biscoe<\/td>\n",
       "      <td>45.2<\/td>\n",
       "      <td>14.8<\/td>\n",
       "      <td>212.0<\/td>\n",
       "      <td>5200.0<\/td>\n",
       "      <td>FEMALE<\/td>\n",
       "    <\/tr>\n",
       "    <tr>\n",
       "      <th>343<\/th>\n",
       "      <td>Gentoo<\/td>\n",
       "      <td>Biscoe<\/td>\n",
       "      <td>49.9<\/td>\n",
       "      <td>16.1<\/td>\n",
       "      <td>213.0<\/td>\n",
       "      <td>5400.0<\/td>\n",
       "      <td>MALE<\/td>\n",
       "    <\/tr>\n",
       "  <\/tbody>\n",
       "<\/table>\n",
       "<\/div>"
      ]
     },
     "metadata":{
      
     },
     "output_type":"display_data"
    }
   ],
   "metadata":{
    "datalore":{
     "node_id":"sl3oN9OWVvPztEk2y0HbyC",
     "type":"CODE",
     "hide_input_from_viewers":false,
     "hide_output_from_viewers":false
    }
   }
  },
  {
   "cell_type":"code",
   "source":[
    "# shape of dataframe\n",
    "penguins.shape"
   ],
   "execution_count":5,
   "outputs":[
    {
     "data":{
      "text\/plain":[
       "(344, 7)"
      ]
     },
     "metadata":{
      
     },
     "output_type":"display_data"
    }
   ],
   "metadata":{
    "datalore":{
     "node_id":"btgN31T5ardysVvONT1fL7",
     "type":"CODE",
     "hide_input_from_viewers":false,
     "hide_output_from_viewers":false
    }
   }
  },
  {
   "cell_type":"code",
   "source":[
    "# information of dataframe\n",
    "penguins.info()"
   ],
   "execution_count":6,
   "outputs":[
    {
     "name":"stdout",
     "text":[
      "<class 'pandas.core.frame.DataFrame'>\n",
      "RangeIndex: 344 entries, 0 to 343\n",
      "Data columns (total 7 columns):\n",
      " #   Column             Non-Null Count  Dtype  \n",
      "---  ------             --------------  -----  \n",
      " 0   species            344 non-null    object \n",
      " 1   island             344 non-null    object \n",
      " 2   bill_length_mm     342 non-null    float64\n",
      " 3   bill_depth_mm      342 non-null    float64\n",
      " 4   flipper_length_mm  342 non-null    float64\n",
      " 5   body_mass_g        342 non-null    float64\n",
      " 6   sex                333 non-null    object \n",
      "dtypes: float64(4), object(3)\n",
      "memory usage: 18.9+ KB\n"
     ],
     "output_type":"stream"
    }
   ],
   "metadata":{
    "datalore":{
     "node_id":"CDlK5XWvxRMtNSYc74WtSt",
     "type":"CODE",
     "hide_input_from_viewers":false,
     "hide_output_from_viewers":false
    }
   }
  },
  {
   "cell_type":"code",
   "source":[
    "# select columns\n",
    "penguins[['species','island','sex']].tail(8)"
   ],
   "execution_count":7,
   "outputs":[
    {
     "data":{
      "text\/html":[
       "<div>\n",
       "<style scoped>\n",
       "    .dataframe tbody tr th:only-of-type {\n",
       "        vertical-align: middle;\n",
       "    }\n",
       "\n",
       "    .dataframe tbody tr th {\n",
       "        vertical-align: top;\n",
       "    }\n",
       "\n",
       "    .dataframe thead th {\n",
       "        text-align: right;\n",
       "    }\n",
       "<\/style>\n",
       "<table border=\"1\" class=\"dataframe\">\n",
       "  <thead>\n",
       "    <tr style=\"text-align: right;\">\n",
       "      <th><\/th>\n",
       "      <th>species<\/th>\n",
       "      <th>island<\/th>\n",
       "      <th>sex<\/th>\n",
       "    <\/tr>\n",
       "  <\/thead>\n",
       "  <tbody>\n",
       "    <tr>\n",
       "      <th>336<\/th>\n",
       "      <td>Gentoo<\/td>\n",
       "      <td>Biscoe<\/td>\n",
       "      <td>NaN<\/td>\n",
       "    <\/tr>\n",
       "    <tr>\n",
       "      <th>337<\/th>\n",
       "      <td>Gentoo<\/td>\n",
       "      <td>Biscoe<\/td>\n",
       "      <td>MALE<\/td>\n",
       "    <\/tr>\n",
       "    <tr>\n",
       "      <th>338<\/th>\n",
       "      <td>Gentoo<\/td>\n",
       "      <td>Biscoe<\/td>\n",
       "      <td>FEMALE<\/td>\n",
       "    <\/tr>\n",
       "    <tr>\n",
       "      <th>339<\/th>\n",
       "      <td>Gentoo<\/td>\n",
       "      <td>Biscoe<\/td>\n",
       "      <td>NaN<\/td>\n",
       "    <\/tr>\n",
       "    <tr>\n",
       "      <th>340<\/th>\n",
       "      <td>Gentoo<\/td>\n",
       "      <td>Biscoe<\/td>\n",
       "      <td>FEMALE<\/td>\n",
       "    <\/tr>\n",
       "    <tr>\n",
       "      <th>341<\/th>\n",
       "      <td>Gentoo<\/td>\n",
       "      <td>Biscoe<\/td>\n",
       "      <td>MALE<\/td>\n",
       "    <\/tr>\n",
       "    <tr>\n",
       "      <th>342<\/th>\n",
       "      <td>Gentoo<\/td>\n",
       "      <td>Biscoe<\/td>\n",
       "      <td>FEMALE<\/td>\n",
       "    <\/tr>\n",
       "    <tr>\n",
       "      <th>343<\/th>\n",
       "      <td>Gentoo<\/td>\n",
       "      <td>Biscoe<\/td>\n",
       "      <td>MALE<\/td>\n",
       "    <\/tr>\n",
       "  <\/tbody>\n",
       "<\/table>\n",
       "<\/div>"
      ]
     },
     "metadata":{
      
     },
     "output_type":"display_data"
    }
   ],
   "metadata":{
    "datalore":{
     "node_id":"eF2mwZsi2VmRV8RVEmM4a7",
     "type":"CODE",
     "hide_input_from_viewers":false,
     "hide_output_from_viewers":false
    }
   }
  },
  {
   "cell_type":"code",
   "source":[
    "# integer location based indexing (iloc)\n",
    "mini_penguins = penguins.iloc[0:5, 0:3]\n",
    "mini_penguins"
   ],
   "execution_count":8,
   "outputs":[
    {
     "data":{
      "text\/html":[
       "<div>\n",
       "<style scoped>\n",
       "    .dataframe tbody tr th:only-of-type {\n",
       "        vertical-align: middle;\n",
       "    }\n",
       "\n",
       "    .dataframe tbody tr th {\n",
       "        vertical-align: top;\n",
       "    }\n",
       "\n",
       "    .dataframe thead th {\n",
       "        text-align: right;\n",
       "    }\n",
       "<\/style>\n",
       "<table border=\"1\" class=\"dataframe\">\n",
       "  <thead>\n",
       "    <tr style=\"text-align: right;\">\n",
       "      <th><\/th>\n",
       "      <th>species<\/th>\n",
       "      <th>island<\/th>\n",
       "      <th>bill_length_mm<\/th>\n",
       "    <\/tr>\n",
       "  <\/thead>\n",
       "  <tbody>\n",
       "    <tr>\n",
       "      <th>0<\/th>\n",
       "      <td>Adelie<\/td>\n",
       "      <td>Torgersen<\/td>\n",
       "      <td>39.1<\/td>\n",
       "    <\/tr>\n",
       "    <tr>\n",
       "      <th>1<\/th>\n",
       "      <td>Adelie<\/td>\n",
       "      <td>Torgersen<\/td>\n",
       "      <td>39.5<\/td>\n",
       "    <\/tr>\n",
       "    <tr>\n",
       "      <th>2<\/th>\n",
       "      <td>Adelie<\/td>\n",
       "      <td>Torgersen<\/td>\n",
       "      <td>40.3<\/td>\n",
       "    <\/tr>\n",
       "    <tr>\n",
       "      <th>3<\/th>\n",
       "      <td>Adelie<\/td>\n",
       "      <td>Torgersen<\/td>\n",
       "      <td>NaN<\/td>\n",
       "    <\/tr>\n",
       "    <tr>\n",
       "      <th>4<\/th>\n",
       "      <td>Adelie<\/td>\n",
       "      <td>Torgersen<\/td>\n",
       "      <td>36.7<\/td>\n",
       "    <\/tr>\n",
       "  <\/tbody>\n",
       "<\/table>\n",
       "<\/div>"
      ]
     },
     "metadata":{
      
     },
     "output_type":"display_data"
    }
   ],
   "metadata":{
    "datalore":{
     "node_id":"L2rnGGwOuaud4tfKfVEODh",
     "type":"CODE",
     "hide_input_from_viewers":false,
     "hide_output_from_viewers":false
    }
   }
  },
  {
   "cell_type":"code",
   "source":[
    "# filter rows by a condition\n",
    "penguins[penguins['island']=='Torgersen']"
   ],
   "execution_count":9,
   "outputs":[
    {
     "data":{
      "text\/html":[
       "<div>\n",
       "<style scoped>\n",
       "    .dataframe tbody tr th:only-of-type {\n",
       "        vertical-align: middle;\n",
       "    }\n",
       "\n",
       "    .dataframe tbody tr th {\n",
       "        vertical-align: top;\n",
       "    }\n",
       "\n",
       "    .dataframe thead th {\n",
       "        text-align: right;\n",
       "    }\n",
       "<\/style>\n",
       "<table border=\"1\" class=\"dataframe\">\n",
       "  <thead>\n",
       "    <tr style=\"text-align: right;\">\n",
       "      <th><\/th>\n",
       "      <th>species<\/th>\n",
       "      <th>island<\/th>\n",
       "      <th>bill_length_mm<\/th>\n",
       "      <th>bill_depth_mm<\/th>\n",
       "      <th>flipper_length_mm<\/th>\n",
       "      <th>body_mass_g<\/th>\n",
       "      <th>sex<\/th>\n",
       "    <\/tr>\n",
       "  <\/thead>\n",
       "  <tbody>\n",
       "    <tr>\n",
       "      <th>0<\/th>\n",
       "      <td>Adelie<\/td>\n",
       "      <td>Torgersen<\/td>\n",
       "      <td>39.1<\/td>\n",
       "      <td>18.7<\/td>\n",
       "      <td>181.0<\/td>\n",
       "      <td>3750.0<\/td>\n",
       "      <td>MALE<\/td>\n",
       "    <\/tr>\n",
       "    <tr>\n",
       "      <th>1<\/th>\n",
       "      <td>Adelie<\/td>\n",
       "      <td>Torgersen<\/td>\n",
       "      <td>39.5<\/td>\n",
       "      <td>17.4<\/td>\n",
       "      <td>186.0<\/td>\n",
       "      <td>3800.0<\/td>\n",
       "      <td>FEMALE<\/td>\n",
       "    <\/tr>\n",
       "    <tr>\n",
       "      <th>2<\/th>\n",
       "      <td>Adelie<\/td>\n",
       "      <td>Torgersen<\/td>\n",
       "      <td>40.3<\/td>\n",
       "      <td>18.0<\/td>\n",
       "      <td>195.0<\/td>\n",
       "      <td>3250.0<\/td>\n",
       "      <td>FEMALE<\/td>\n",
       "    <\/tr>\n",
       "    <tr>\n",
       "      <th>3<\/th>\n",
       "      <td>Adelie<\/td>\n",
       "      <td>Torgersen<\/td>\n",
       "      <td>NaN<\/td>\n",
       "      <td>NaN<\/td>\n",
       "      <td>NaN<\/td>\n",
       "      <td>NaN<\/td>\n",
       "      <td>NaN<\/td>\n",
       "    <\/tr>\n",
       "    <tr>\n",
       "      <th>4<\/th>\n",
       "      <td>Adelie<\/td>\n",
       "      <td>Torgersen<\/td>\n",
       "      <td>36.7<\/td>\n",
       "      <td>19.3<\/td>\n",
       "      <td>193.0<\/td>\n",
       "      <td>3450.0<\/td>\n",
       "      <td>FEMALE<\/td>\n",
       "    <\/tr>\n",
       "    <tr>\n",
       "      <th>5<\/th>\n",
       "      <td>Adelie<\/td>\n",
       "      <td>Torgersen<\/td>\n",
       "      <td>39.3<\/td>\n",
       "      <td>20.6<\/td>\n",
       "      <td>190.0<\/td>\n",
       "      <td>3650.0<\/td>\n",
       "      <td>MALE<\/td>\n",
       "    <\/tr>\n",
       "    <tr>\n",
       "      <th>6<\/th>\n",
       "      <td>Adelie<\/td>\n",
       "      <td>Torgersen<\/td>\n",
       "      <td>38.9<\/td>\n",
       "      <td>17.8<\/td>\n",
       "      <td>181.0<\/td>\n",
       "      <td>3625.0<\/td>\n",
       "      <td>FEMALE<\/td>\n",
       "    <\/tr>\n",
       "    <tr>\n",
       "      <th>7<\/th>\n",
       "      <td>Adelie<\/td>\n",
       "      <td>Torgersen<\/td>\n",
       "      <td>39.2<\/td>\n",
       "      <td>19.6<\/td>\n",
       "      <td>195.0<\/td>\n",
       "      <td>4675.0<\/td>\n",
       "      <td>MALE<\/td>\n",
       "    <\/tr>\n",
       "    <tr>\n",
       "      <th>8<\/th>\n",
       "      <td>Adelie<\/td>\n",
       "      <td>Torgersen<\/td>\n",
       "      <td>34.1<\/td>\n",
       "      <td>18.1<\/td>\n",
       "      <td>193.0<\/td>\n",
       "      <td>3475.0<\/td>\n",
       "      <td>NaN<\/td>\n",
       "    <\/tr>\n",
       "    <tr>\n",
       "      <th>9<\/th>\n",
       "      <td>Adelie<\/td>\n",
       "      <td>Torgersen<\/td>\n",
       "      <td>42.0<\/td>\n",
       "      <td>20.2<\/td>\n",
       "      <td>190.0<\/td>\n",
       "      <td>4250.0<\/td>\n",
       "      <td>NaN<\/td>\n",
       "    <\/tr>\n",
       "    <tr>\n",
       "      <th>10<\/th>\n",
       "      <td>Adelie<\/td>\n",
       "      <td>Torgersen<\/td>\n",
       "      <td>37.8<\/td>\n",
       "      <td>17.1<\/td>\n",
       "      <td>186.0<\/td>\n",
       "      <td>3300.0<\/td>\n",
       "      <td>NaN<\/td>\n",
       "    <\/tr>\n",
       "    <tr>\n",
       "      <th>11<\/th>\n",
       "      <td>Adelie<\/td>\n",
       "      <td>Torgersen<\/td>\n",
       "      <td>37.8<\/td>\n",
       "      <td>17.3<\/td>\n",
       "      <td>180.0<\/td>\n",
       "      <td>3700.0<\/td>\n",
       "      <td>NaN<\/td>\n",
       "    <\/tr>\n",
       "    <tr>\n",
       "      <th>12<\/th>\n",
       "      <td>Adelie<\/td>\n",
       "      <td>Torgersen<\/td>\n",
       "      <td>41.1<\/td>\n",
       "      <td>17.6<\/td>\n",
       "      <td>182.0<\/td>\n",
       "      <td>3200.0<\/td>\n",
       "      <td>FEMALE<\/td>\n",
       "    <\/tr>\n",
       "    <tr>\n",
       "      <th>13<\/th>\n",
       "      <td>Adelie<\/td>\n",
       "      <td>Torgersen<\/td>\n",
       "      <td>38.6<\/td>\n",
       "      <td>21.2<\/td>\n",
       "      <td>191.0<\/td>\n",
       "      <td>3800.0<\/td>\n",
       "      <td>MALE<\/td>\n",
       "    <\/tr>\n",
       "    <tr>\n",
       "      <th>14<\/th>\n",
       "      <td>Adelie<\/td>\n",
       "      <td>Torgersen<\/td>\n",
       "      <td>34.6<\/td>\n",
       "      <td>21.1<\/td>\n",
       "      <td>198.0<\/td>\n",
       "      <td>4400.0<\/td>\n",
       "      <td>MALE<\/td>\n",
       "    <\/tr>\n",
       "    <tr>\n",
       "      <th>15<\/th>\n",
       "      <td>Adelie<\/td>\n",
       "      <td>Torgersen<\/td>\n",
       "      <td>36.6<\/td>\n",
       "      <td>17.8<\/td>\n",
       "      <td>185.0<\/td>\n",
       "      <td>3700.0<\/td>\n",
       "      <td>FEMALE<\/td>\n",
       "    <\/tr>\n",
       "    <tr>\n",
       "      <th>16<\/th>\n",
       "      <td>Adelie<\/td>\n",
       "      <td>Torgersen<\/td>\n",
       "      <td>38.7<\/td>\n",
       "      <td>19.0<\/td>\n",
       "      <td>195.0<\/td>\n",
       "      <td>3450.0<\/td>\n",
       "      <td>FEMALE<\/td>\n",
       "    <\/tr>\n",
       "    <tr>\n",
       "      <th>17<\/th>\n",
       "      <td>Adelie<\/td>\n",
       "      <td>Torgersen<\/td>\n",
       "      <td>42.5<\/td>\n",
       "      <td>20.7<\/td>\n",
       "      <td>197.0<\/td>\n",
       "      <td>4500.0<\/td>\n",
       "      <td>MALE<\/td>\n",
       "    <\/tr>\n",
       "    <tr>\n",
       "      <th>18<\/th>\n",
       "      <td>Adelie<\/td>\n",
       "      <td>Torgersen<\/td>\n",
       "      <td>34.4<\/td>\n",
       "      <td>18.4<\/td>\n",
       "      <td>184.0<\/td>\n",
       "      <td>3325.0<\/td>\n",
       "      <td>FEMALE<\/td>\n",
       "    <\/tr>\n",
       "    <tr>\n",
       "      <th>19<\/th>\n",
       "      <td>Adelie<\/td>\n",
       "      <td>Torgersen<\/td>\n",
       "      <td>46.0<\/td>\n",
       "      <td>21.5<\/td>\n",
       "      <td>194.0<\/td>\n",
       "      <td>4200.0<\/td>\n",
       "      <td>MALE<\/td>\n",
       "    <\/tr>\n",
       "    <tr>\n",
       "      <th>68<\/th>\n",
       "      <td>Adelie<\/td>\n",
       "      <td>Torgersen<\/td>\n",
       "      <td>35.9<\/td>\n",
       "      <td>16.6<\/td>\n",
       "      <td>190.0<\/td>\n",
       "      <td>3050.0<\/td>\n",
       "      <td>FEMALE<\/td>\n",
       "    <\/tr>\n",
       "    <tr>\n",
       "      <th>69<\/th>\n",
       "      <td>Adelie<\/td>\n",
       "      <td>Torgersen<\/td>\n",
       "      <td>41.8<\/td>\n",
       "      <td>19.4<\/td>\n",
       "      <td>198.0<\/td>\n",
       "      <td>4450.0<\/td>\n",
       "      <td>MALE<\/td>\n",
       "    <\/tr>\n",
       "    <tr>\n",
       "      <th>70<\/th>\n",
       "      <td>Adelie<\/td>\n",
       "      <td>Torgersen<\/td>\n",
       "      <td>33.5<\/td>\n",
       "      <td>19.0<\/td>\n",
       "      <td>190.0<\/td>\n",
       "      <td>3600.0<\/td>\n",
       "      <td>FEMALE<\/td>\n",
       "    <\/tr>\n",
       "    <tr>\n",
       "      <th>71<\/th>\n",
       "      <td>Adelie<\/td>\n",
       "      <td>Torgersen<\/td>\n",
       "      <td>39.7<\/td>\n",
       "      <td>18.4<\/td>\n",
       "      <td>190.0<\/td>\n",
       "      <td>3900.0<\/td>\n",
       "      <td>MALE<\/td>\n",
       "    <\/tr>\n",
       "    <tr>\n",
       "      <th>72<\/th>\n",
       "      <td>Adelie<\/td>\n",
       "      <td>Torgersen<\/td>\n",
       "      <td>39.6<\/td>\n",
       "      <td>17.2<\/td>\n",
       "      <td>196.0<\/td>\n",
       "      <td>3550.0<\/td>\n",
       "      <td>FEMALE<\/td>\n",
       "    <\/tr>\n",
       "    <tr>\n",
       "      <th>73<\/th>\n",
       "      <td>Adelie<\/td>\n",
       "      <td>Torgersen<\/td>\n",
       "      <td>45.8<\/td>\n",
       "      <td>18.9<\/td>\n",
       "      <td>197.0<\/td>\n",
       "      <td>4150.0<\/td>\n",
       "      <td>MALE<\/td>\n",
       "    <\/tr>\n",
       "    <tr>\n",
       "      <th>74<\/th>\n",
       "      <td>Adelie<\/td>\n",
       "      <td>Torgersen<\/td>\n",
       "      <td>35.5<\/td>\n",
       "      <td>17.5<\/td>\n",
       "      <td>190.0<\/td>\n",
       "      <td>3700.0<\/td>\n",
       "      <td>FEMALE<\/td>\n",
       "    <\/tr>\n",
       "    <tr>\n",
       "      <th>75<\/th>\n",
       "      <td>Adelie<\/td>\n",
       "      <td>Torgersen<\/td>\n",
       "      <td>42.8<\/td>\n",
       "      <td>18.5<\/td>\n",
       "      <td>195.0<\/td>\n",
       "      <td>4250.0<\/td>\n",
       "      <td>MALE<\/td>\n",
       "    <\/tr>\n",
       "    <tr>\n",
       "      <th>76<\/th>\n",
       "      <td>Adelie<\/td>\n",
       "      <td>Torgersen<\/td>\n",
       "      <td>40.9<\/td>\n",
       "      <td>16.8<\/td>\n",
       "      <td>191.0<\/td>\n",
       "      <td>3700.0<\/td>\n",
       "      <td>FEMALE<\/td>\n",
       "    <\/tr>\n",
       "    <tr>\n",
       "      <th>77<\/th>\n",
       "      <td>Adelie<\/td>\n",
       "      <td>Torgersen<\/td>\n",
       "      <td>37.2<\/td>\n",
       "      <td>19.4<\/td>\n",
       "      <td>184.0<\/td>\n",
       "      <td>3900.0<\/td>\n",
       "      <td>MALE<\/td>\n",
       "    <\/tr>\n",
       "    <tr>\n",
       "      <th>78<\/th>\n",
       "      <td>Adelie<\/td>\n",
       "      <td>Torgersen<\/td>\n",
       "      <td>36.2<\/td>\n",
       "      <td>16.1<\/td>\n",
       "      <td>187.0<\/td>\n",
       "      <td>3550.0<\/td>\n",
       "      <td>FEMALE<\/td>\n",
       "    <\/tr>\n",
       "    <tr>\n",
       "      <th>79<\/th>\n",
       "      <td>Adelie<\/td>\n",
       "      <td>Torgersen<\/td>\n",
       "      <td>42.1<\/td>\n",
       "      <td>19.1<\/td>\n",
       "      <td>195.0<\/td>\n",
       "      <td>4000.0<\/td>\n",
       "      <td>MALE<\/td>\n",
       "    <\/tr>\n",
       "    <tr>\n",
       "      <th>80<\/th>\n",
       "      <td>Adelie<\/td>\n",
       "      <td>Torgersen<\/td>\n",
       "      <td>34.6<\/td>\n",
       "      <td>17.2<\/td>\n",
       "      <td>189.0<\/td>\n",
       "      <td>3200.0<\/td>\n",
       "      <td>FEMALE<\/td>\n",
       "    <\/tr>\n",
       "    <tr>\n",
       "      <th>81<\/th>\n",
       "      <td>Adelie<\/td>\n",
       "      <td>Torgersen<\/td>\n",
       "      <td>42.9<\/td>\n",
       "      <td>17.6<\/td>\n",
       "      <td>196.0<\/td>\n",
       "      <td>4700.0<\/td>\n",
       "      <td>MALE<\/td>\n",
       "    <\/tr>\n",
       "    <tr>\n",
       "      <th>82<\/th>\n",
       "      <td>Adelie<\/td>\n",
       "      <td>Torgersen<\/td>\n",
       "      <td>36.7<\/td>\n",
       "      <td>18.8<\/td>\n",
       "      <td>187.0<\/td>\n",
       "      <td>3800.0<\/td>\n",
       "      <td>FEMALE<\/td>\n",
       "    <\/tr>\n",
       "    <tr>\n",
       "      <th>83<\/th>\n",
       "      <td>Adelie<\/td>\n",
       "      <td>Torgersen<\/td>\n",
       "      <td>35.1<\/td>\n",
       "      <td>19.4<\/td>\n",
       "      <td>193.0<\/td>\n",
       "      <td>4200.0<\/td>\n",
       "      <td>MALE<\/td>\n",
       "    <\/tr>\n",
       "    <tr>\n",
       "      <th>116<\/th>\n",
       "      <td>Adelie<\/td>\n",
       "      <td>Torgersen<\/td>\n",
       "      <td>38.6<\/td>\n",
       "      <td>17.0<\/td>\n",
       "      <td>188.0<\/td>\n",
       "      <td>2900.0<\/td>\n",
       "      <td>FEMALE<\/td>\n",
       "    <\/tr>\n",
       "    <tr>\n",
       "      <th>117<\/th>\n",
       "      <td>Adelie<\/td>\n",
       "      <td>Torgersen<\/td>\n",
       "      <td>37.3<\/td>\n",
       "      <td>20.5<\/td>\n",
       "      <td>199.0<\/td>\n",
       "      <td>3775.0<\/td>\n",
       "      <td>MALE<\/td>\n",
       "    <\/tr>\n",
       "    <tr>\n",
       "      <th>118<\/th>\n",
       "      <td>Adelie<\/td>\n",
       "      <td>Torgersen<\/td>\n",
       "      <td>35.7<\/td>\n",
       "      <td>17.0<\/td>\n",
       "      <td>189.0<\/td>\n",
       "      <td>3350.0<\/td>\n",
       "      <td>FEMALE<\/td>\n",
       "    <\/tr>\n",
       "    <tr>\n",
       "      <th>119<\/th>\n",
       "      <td>Adelie<\/td>\n",
       "      <td>Torgersen<\/td>\n",
       "      <td>41.1<\/td>\n",
       "      <td>18.6<\/td>\n",
       "      <td>189.0<\/td>\n",
       "      <td>3325.0<\/td>\n",
       "      <td>MALE<\/td>\n",
       "    <\/tr>\n",
       "    <tr>\n",
       "      <th>120<\/th>\n",
       "      <td>Adelie<\/td>\n",
       "      <td>Torgersen<\/td>\n",
       "      <td>36.2<\/td>\n",
       "      <td>17.2<\/td>\n",
       "      <td>187.0<\/td>\n",
       "      <td>3150.0<\/td>\n",
       "      <td>FEMALE<\/td>\n",
       "    <\/tr>\n",
       "    <tr>\n",
       "      <th>121<\/th>\n",
       "      <td>Adelie<\/td>\n",
       "      <td>Torgersen<\/td>\n",
       "      <td>37.7<\/td>\n",
       "      <td>19.8<\/td>\n",
       "      <td>198.0<\/td>\n",
       "      <td>3500.0<\/td>\n",
       "      <td>MALE<\/td>\n",
       "    <\/tr>\n",
       "    <tr>\n",
       "      <th>122<\/th>\n",
       "      <td>Adelie<\/td>\n",
       "      <td>Torgersen<\/td>\n",
       "      <td>40.2<\/td>\n",
       "      <td>17.0<\/td>\n",
       "      <td>176.0<\/td>\n",
       "      <td>3450.0<\/td>\n",
       "      <td>FEMALE<\/td>\n",
       "    <\/tr>\n",
       "    <tr>\n",
       "      <th>123<\/th>\n",
       "      <td>Adelie<\/td>\n",
       "      <td>Torgersen<\/td>\n",
       "      <td>41.4<\/td>\n",
       "      <td>18.5<\/td>\n",
       "      <td>202.0<\/td>\n",
       "      <td>3875.0<\/td>\n",
       "      <td>MALE<\/td>\n",
       "    <\/tr>\n",
       "    <tr>\n",
       "      <th>124<\/th>\n",
       "      <td>Adelie<\/td>\n",
       "      <td>Torgersen<\/td>\n",
       "      <td>35.2<\/td>\n",
       "      <td>15.9<\/td>\n",
       "      <td>186.0<\/td>\n",
       "      <td>3050.0<\/td>\n",
       "      <td>FEMALE<\/td>\n",
       "    <\/tr>\n",
       "    <tr>\n",
       "      <th>125<\/th>\n",
       "      <td>Adelie<\/td>\n",
       "      <td>Torgersen<\/td>\n",
       "      <td>40.6<\/td>\n",
       "      <td>19.0<\/td>\n",
       "      <td>199.0<\/td>\n",
       "      <td>4000.0<\/td>\n",
       "      <td>MALE<\/td>\n",
       "    <\/tr>\n",
       "    <tr>\n",
       "      <th>126<\/th>\n",
       "      <td>Adelie<\/td>\n",
       "      <td>Torgersen<\/td>\n",
       "      <td>38.8<\/td>\n",
       "      <td>17.6<\/td>\n",
       "      <td>191.0<\/td>\n",
       "      <td>3275.0<\/td>\n",
       "      <td>FEMALE<\/td>\n",
       "    <\/tr>\n",
       "    <tr>\n",
       "      <th>127<\/th>\n",
       "      <td>Adelie<\/td>\n",
       "      <td>Torgersen<\/td>\n",
       "      <td>41.5<\/td>\n",
       "      <td>18.3<\/td>\n",
       "      <td>195.0<\/td>\n",
       "      <td>4300.0<\/td>\n",
       "      <td>MALE<\/td>\n",
       "    <\/tr>\n",
       "    <tr>\n",
       "      <th>128<\/th>\n",
       "      <td>Adelie<\/td>\n",
       "      <td>Torgersen<\/td>\n",
       "      <td>39.0<\/td>\n",
       "      <td>17.1<\/td>\n",
       "      <td>191.0<\/td>\n",
       "      <td>3050.0<\/td>\n",
       "      <td>FEMALE<\/td>\n",
       "    <\/tr>\n",
       "    <tr>\n",
       "      <th>129<\/th>\n",
       "      <td>Adelie<\/td>\n",
       "      <td>Torgersen<\/td>\n",
       "      <td>44.1<\/td>\n",
       "      <td>18.0<\/td>\n",
       "      <td>210.0<\/td>\n",
       "      <td>4000.0<\/td>\n",
       "      <td>MALE<\/td>\n",
       "    <\/tr>\n",
       "    <tr>\n",
       "      <th>130<\/th>\n",
       "      <td>Adelie<\/td>\n",
       "      <td>Torgersen<\/td>\n",
       "      <td>38.5<\/td>\n",
       "      <td>17.9<\/td>\n",
       "      <td>190.0<\/td>\n",
       "      <td>3325.0<\/td>\n",
       "      <td>FEMALE<\/td>\n",
       "    <\/tr>\n",
       "    <tr>\n",
       "      <th>131<\/th>\n",
       "      <td>Adelie<\/td>\n",
       "      <td>Torgersen<\/td>\n",
       "      <td>43.1<\/td>\n",
       "      <td>19.2<\/td>\n",
       "      <td>197.0<\/td>\n",
       "      <td>3500.0<\/td>\n",
       "      <td>MALE<\/td>\n",
       "    <\/tr>\n",
       "  <\/tbody>\n",
       "<\/table>\n",
       "<\/div>"
      ]
     },
     "metadata":{
      
     },
     "output_type":"display_data"
    }
   ],
   "metadata":{
    "datalore":{
     "node_id":"uii7Jes5i07zit9CqkfqQw",
     "type":"CODE",
     "hide_input_from_viewers":false,
     "hide_output_from_viewers":false
    }
   }
  },
  {
   "cell_type":"code",
   "source":[
    "penguins[penguins['bill_length_mm'] < 34]"
   ],
   "execution_count":10,
   "outputs":[
    {
     "data":{
      "text\/html":[
       "<div>\n",
       "<style scoped>\n",
       "    .dataframe tbody tr th:only-of-type {\n",
       "        vertical-align: middle;\n",
       "    }\n",
       "\n",
       "    .dataframe tbody tr th {\n",
       "        vertical-align: top;\n",
       "    }\n",
       "\n",
       "    .dataframe thead th {\n",
       "        text-align: right;\n",
       "    }\n",
       "<\/style>\n",
       "<table border=\"1\" class=\"dataframe\">\n",
       "  <thead>\n",
       "    <tr style=\"text-align: right;\">\n",
       "      <th><\/th>\n",
       "      <th>species<\/th>\n",
       "      <th>island<\/th>\n",
       "      <th>bill_length_mm<\/th>\n",
       "      <th>bill_depth_mm<\/th>\n",
       "      <th>flipper_length_mm<\/th>\n",
       "      <th>body_mass_g<\/th>\n",
       "      <th>sex<\/th>\n",
       "    <\/tr>\n",
       "  <\/thead>\n",
       "  <tbody>\n",
       "    <tr>\n",
       "      <th>70<\/th>\n",
       "      <td>Adelie<\/td>\n",
       "      <td>Torgersen<\/td>\n",
       "      <td>33.5<\/td>\n",
       "      <td>19.0<\/td>\n",
       "      <td>190.0<\/td>\n",
       "      <td>3600.0<\/td>\n",
       "      <td>FEMALE<\/td>\n",
       "    <\/tr>\n",
       "    <tr>\n",
       "      <th>98<\/th>\n",
       "      <td>Adelie<\/td>\n",
       "      <td>Dream<\/td>\n",
       "      <td>33.1<\/td>\n",
       "      <td>16.1<\/td>\n",
       "      <td>178.0<\/td>\n",
       "      <td>2900.0<\/td>\n",
       "      <td>FEMALE<\/td>\n",
       "    <\/tr>\n",
       "    <tr>\n",
       "      <th>142<\/th>\n",
       "      <td>Adelie<\/td>\n",
       "      <td>Dream<\/td>\n",
       "      <td>32.1<\/td>\n",
       "      <td>15.5<\/td>\n",
       "      <td>188.0<\/td>\n",
       "      <td>3050.0<\/td>\n",
       "      <td>FEMALE<\/td>\n",
       "    <\/tr>\n",
       "  <\/tbody>\n",
       "<\/table>\n",
       "<\/div>"
      ]
     },
     "metadata":{
      
     },
     "output_type":"display_data"
    }
   ],
   "metadata":{
    "datalore":{
     "node_id":"jtuBlXmuUDcPdXklfJp5Uw",
     "type":"CODE",
     "hide_input_from_viewers":false,
     "hide_output_from_viewers":false
    }
   }
  },
  {
   "cell_type":"code",
   "source":[
    "# filter more than one condition\n",
    "filtered_penguins =penguins[(penguins['island'] == 'Torgersen') | (penguins['bill_length_mm']< 35)]"
   ],
   "execution_count":11,
   "outputs":[
    
   ],
   "metadata":{
    "datalore":{
     "node_id":"ZbrYwDubO1zdzjg3MK5g4C",
     "type":"CODE",
     "hide_input_from_viewers":false,
     "hide_output_from_viewers":false
    }
   }
  },
  {
   "cell_type":"code",
   "source":[
    "#filter with .query()\n",
    "penguins.query('island == \"Torgersen\" | bill_length_mm < 35')  #island == 'targersen'"
   ],
   "execution_count":12,
   "outputs":[
    {
     "data":{
      "text\/html":[
       "<div>\n",
       "<style scoped>\n",
       "    .dataframe tbody tr th:only-of-type {\n",
       "        vertical-align: middle;\n",
       "    }\n",
       "\n",
       "    .dataframe tbody tr th {\n",
       "        vertical-align: top;\n",
       "    }\n",
       "\n",
       "    .dataframe thead th {\n",
       "        text-align: right;\n",
       "    }\n",
       "<\/style>\n",
       "<table border=\"1\" class=\"dataframe\">\n",
       "  <thead>\n",
       "    <tr style=\"text-align: right;\">\n",
       "      <th><\/th>\n",
       "      <th>species<\/th>\n",
       "      <th>island<\/th>\n",
       "      <th>bill_length_mm<\/th>\n",
       "      <th>bill_depth_mm<\/th>\n",
       "      <th>flipper_length_mm<\/th>\n",
       "      <th>body_mass_g<\/th>\n",
       "      <th>sex<\/th>\n",
       "    <\/tr>\n",
       "  <\/thead>\n",
       "  <tbody>\n",
       "    <tr>\n",
       "      <th>0<\/th>\n",
       "      <td>Adelie<\/td>\n",
       "      <td>Torgersen<\/td>\n",
       "      <td>39.1<\/td>\n",
       "      <td>18.7<\/td>\n",
       "      <td>181.0<\/td>\n",
       "      <td>3750.0<\/td>\n",
       "      <td>MALE<\/td>\n",
       "    <\/tr>\n",
       "    <tr>\n",
       "      <th>1<\/th>\n",
       "      <td>Adelie<\/td>\n",
       "      <td>Torgersen<\/td>\n",
       "      <td>39.5<\/td>\n",
       "      <td>17.4<\/td>\n",
       "      <td>186.0<\/td>\n",
       "      <td>3800.0<\/td>\n",
       "      <td>FEMALE<\/td>\n",
       "    <\/tr>\n",
       "    <tr>\n",
       "      <th>2<\/th>\n",
       "      <td>Adelie<\/td>\n",
       "      <td>Torgersen<\/td>\n",
       "      <td>40.3<\/td>\n",
       "      <td>18.0<\/td>\n",
       "      <td>195.0<\/td>\n",
       "      <td>3250.0<\/td>\n",
       "      <td>FEMALE<\/td>\n",
       "    <\/tr>\n",
       "    <tr>\n",
       "      <th>3<\/th>\n",
       "      <td>Adelie<\/td>\n",
       "      <td>Torgersen<\/td>\n",
       "      <td>NaN<\/td>\n",
       "      <td>NaN<\/td>\n",
       "      <td>NaN<\/td>\n",
       "      <td>NaN<\/td>\n",
       "      <td>NaN<\/td>\n",
       "    <\/tr>\n",
       "    <tr>\n",
       "      <th>4<\/th>\n",
       "      <td>Adelie<\/td>\n",
       "      <td>Torgersen<\/td>\n",
       "      <td>36.7<\/td>\n",
       "      <td>19.3<\/td>\n",
       "      <td>193.0<\/td>\n",
       "      <td>3450.0<\/td>\n",
       "      <td>FEMALE<\/td>\n",
       "    <\/tr>\n",
       "    <tr>\n",
       "      <th>5<\/th>\n",
       "      <td>Adelie<\/td>\n",
       "      <td>Torgersen<\/td>\n",
       "      <td>39.3<\/td>\n",
       "      <td>20.6<\/td>\n",
       "      <td>190.0<\/td>\n",
       "      <td>3650.0<\/td>\n",
       "      <td>MALE<\/td>\n",
       "    <\/tr>\n",
       "    <tr>\n",
       "      <th>6<\/th>\n",
       "      <td>Adelie<\/td>\n",
       "      <td>Torgersen<\/td>\n",
       "      <td>38.9<\/td>\n",
       "      <td>17.8<\/td>\n",
       "      <td>181.0<\/td>\n",
       "      <td>3625.0<\/td>\n",
       "      <td>FEMALE<\/td>\n",
       "    <\/tr>\n",
       "    <tr>\n",
       "      <th>7<\/th>\n",
       "      <td>Adelie<\/td>\n",
       "      <td>Torgersen<\/td>\n",
       "      <td>39.2<\/td>\n",
       "      <td>19.6<\/td>\n",
       "      <td>195.0<\/td>\n",
       "      <td>4675.0<\/td>\n",
       "      <td>MALE<\/td>\n",
       "    <\/tr>\n",
       "    <tr>\n",
       "      <th>8<\/th>\n",
       "      <td>Adelie<\/td>\n",
       "      <td>Torgersen<\/td>\n",
       "      <td>34.1<\/td>\n",
       "      <td>18.1<\/td>\n",
       "      <td>193.0<\/td>\n",
       "      <td>3475.0<\/td>\n",
       "      <td>NaN<\/td>\n",
       "    <\/tr>\n",
       "    <tr>\n",
       "      <th>9<\/th>\n",
       "      <td>Adelie<\/td>\n",
       "      <td>Torgersen<\/td>\n",
       "      <td>42.0<\/td>\n",
       "      <td>20.2<\/td>\n",
       "      <td>190.0<\/td>\n",
       "      <td>4250.0<\/td>\n",
       "      <td>NaN<\/td>\n",
       "    <\/tr>\n",
       "    <tr>\n",
       "      <th>10<\/th>\n",
       "      <td>Adelie<\/td>\n",
       "      <td>Torgersen<\/td>\n",
       "      <td>37.8<\/td>\n",
       "      <td>17.1<\/td>\n",
       "      <td>186.0<\/td>\n",
       "      <td>3300.0<\/td>\n",
       "      <td>NaN<\/td>\n",
       "    <\/tr>\n",
       "    <tr>\n",
       "      <th>11<\/th>\n",
       "      <td>Adelie<\/td>\n",
       "      <td>Torgersen<\/td>\n",
       "      <td>37.8<\/td>\n",
       "      <td>17.3<\/td>\n",
       "      <td>180.0<\/td>\n",
       "      <td>3700.0<\/td>\n",
       "      <td>NaN<\/td>\n",
       "    <\/tr>\n",
       "    <tr>\n",
       "      <th>12<\/th>\n",
       "      <td>Adelie<\/td>\n",
       "      <td>Torgersen<\/td>\n",
       "      <td>41.1<\/td>\n",
       "      <td>17.6<\/td>\n",
       "      <td>182.0<\/td>\n",
       "      <td>3200.0<\/td>\n",
       "      <td>FEMALE<\/td>\n",
       "    <\/tr>\n",
       "    <tr>\n",
       "      <th>13<\/th>\n",
       "      <td>Adelie<\/td>\n",
       "      <td>Torgersen<\/td>\n",
       "      <td>38.6<\/td>\n",
       "      <td>21.2<\/td>\n",
       "      <td>191.0<\/td>\n",
       "      <td>3800.0<\/td>\n",
       "      <td>MALE<\/td>\n",
       "    <\/tr>\n",
       "    <tr>\n",
       "      <th>14<\/th>\n",
       "      <td>Adelie<\/td>\n",
       "      <td>Torgersen<\/td>\n",
       "      <td>34.6<\/td>\n",
       "      <td>21.1<\/td>\n",
       "      <td>198.0<\/td>\n",
       "      <td>4400.0<\/td>\n",
       "      <td>MALE<\/td>\n",
       "    <\/tr>\n",
       "    <tr>\n",
       "      <th>15<\/th>\n",
       "      <td>Adelie<\/td>\n",
       "      <td>Torgersen<\/td>\n",
       "      <td>36.6<\/td>\n",
       "      <td>17.8<\/td>\n",
       "      <td>185.0<\/td>\n",
       "      <td>3700.0<\/td>\n",
       "      <td>FEMALE<\/td>\n",
       "    <\/tr>\n",
       "    <tr>\n",
       "      <th>16<\/th>\n",
       "      <td>Adelie<\/td>\n",
       "      <td>Torgersen<\/td>\n",
       "      <td>38.7<\/td>\n",
       "      <td>19.0<\/td>\n",
       "      <td>195.0<\/td>\n",
       "      <td>3450.0<\/td>\n",
       "      <td>FEMALE<\/td>\n",
       "    <\/tr>\n",
       "    <tr>\n",
       "      <th>17<\/th>\n",
       "      <td>Adelie<\/td>\n",
       "      <td>Torgersen<\/td>\n",
       "      <td>42.5<\/td>\n",
       "      <td>20.7<\/td>\n",
       "      <td>197.0<\/td>\n",
       "      <td>4500.0<\/td>\n",
       "      <td>MALE<\/td>\n",
       "    <\/tr>\n",
       "    <tr>\n",
       "      <th>18<\/th>\n",
       "      <td>Adelie<\/td>\n",
       "      <td>Torgersen<\/td>\n",
       "      <td>34.4<\/td>\n",
       "      <td>18.4<\/td>\n",
       "      <td>184.0<\/td>\n",
       "      <td>3325.0<\/td>\n",
       "      <td>FEMALE<\/td>\n",
       "    <\/tr>\n",
       "    <tr>\n",
       "      <th>19<\/th>\n",
       "      <td>Adelie<\/td>\n",
       "      <td>Torgersen<\/td>\n",
       "      <td>46.0<\/td>\n",
       "      <td>21.5<\/td>\n",
       "      <td>194.0<\/td>\n",
       "      <td>4200.0<\/td>\n",
       "      <td>MALE<\/td>\n",
       "    <\/tr>\n",
       "    <tr>\n",
       "      <th>54<\/th>\n",
       "      <td>Adelie<\/td>\n",
       "      <td>Biscoe<\/td>\n",
       "      <td>34.5<\/td>\n",
       "      <td>18.1<\/td>\n",
       "      <td>187.0<\/td>\n",
       "      <td>2900.0<\/td>\n",
       "      <td>FEMALE<\/td>\n",
       "    <\/tr>\n",
       "    <tr>\n",
       "      <th>68<\/th>\n",
       "      <td>Adelie<\/td>\n",
       "      <td>Torgersen<\/td>\n",
       "      <td>35.9<\/td>\n",
       "      <td>16.6<\/td>\n",
       "      <td>190.0<\/td>\n",
       "      <td>3050.0<\/td>\n",
       "      <td>FEMALE<\/td>\n",
       "    <\/tr>\n",
       "    <tr>\n",
       "      <th>69<\/th>\n",
       "      <td>Adelie<\/td>\n",
       "      <td>Torgersen<\/td>\n",
       "      <td>41.8<\/td>\n",
       "      <td>19.4<\/td>\n",
       "      <td>198.0<\/td>\n",
       "      <td>4450.0<\/td>\n",
       "      <td>MALE<\/td>\n",
       "    <\/tr>\n",
       "    <tr>\n",
       "      <th>70<\/th>\n",
       "      <td>Adelie<\/td>\n",
       "      <td>Torgersen<\/td>\n",
       "      <td>33.5<\/td>\n",
       "      <td>19.0<\/td>\n",
       "      <td>190.0<\/td>\n",
       "      <td>3600.0<\/td>\n",
       "      <td>FEMALE<\/td>\n",
       "    <\/tr>\n",
       "    <tr>\n",
       "      <th>71<\/th>\n",
       "      <td>Adelie<\/td>\n",
       "      <td>Torgersen<\/td>\n",
       "      <td>39.7<\/td>\n",
       "      <td>18.4<\/td>\n",
       "      <td>190.0<\/td>\n",
       "      <td>3900.0<\/td>\n",
       "      <td>MALE<\/td>\n",
       "    <\/tr>\n",
       "    <tr>\n",
       "      <th>72<\/th>\n",
       "      <td>Adelie<\/td>\n",
       "      <td>Torgersen<\/td>\n",
       "      <td>39.6<\/td>\n",
       "      <td>17.2<\/td>\n",
       "      <td>196.0<\/td>\n",
       "      <td>3550.0<\/td>\n",
       "      <td>FEMALE<\/td>\n",
       "    <\/tr>\n",
       "    <tr>\n",
       "      <th>73<\/th>\n",
       "      <td>Adelie<\/td>\n",
       "      <td>Torgersen<\/td>\n",
       "      <td>45.8<\/td>\n",
       "      <td>18.9<\/td>\n",
       "      <td>197.0<\/td>\n",
       "      <td>4150.0<\/td>\n",
       "      <td>MALE<\/td>\n",
       "    <\/tr>\n",
       "    <tr>\n",
       "      <th>74<\/th>\n",
       "      <td>Adelie<\/td>\n",
       "      <td>Torgersen<\/td>\n",
       "      <td>35.5<\/td>\n",
       "      <td>17.5<\/td>\n",
       "      <td>190.0<\/td>\n",
       "      <td>3700.0<\/td>\n",
       "      <td>FEMALE<\/td>\n",
       "    <\/tr>\n",
       "    <tr>\n",
       "      <th>75<\/th>\n",
       "      <td>Adelie<\/td>\n",
       "      <td>Torgersen<\/td>\n",
       "      <td>42.8<\/td>\n",
       "      <td>18.5<\/td>\n",
       "      <td>195.0<\/td>\n",
       "      <td>4250.0<\/td>\n",
       "      <td>MALE<\/td>\n",
       "    <\/tr>\n",
       "    <tr>\n",
       "      <th>76<\/th>\n",
       "      <td>Adelie<\/td>\n",
       "      <td>Torgersen<\/td>\n",
       "      <td>40.9<\/td>\n",
       "      <td>16.8<\/td>\n",
       "      <td>191.0<\/td>\n",
       "      <td>3700.0<\/td>\n",
       "      <td>FEMALE<\/td>\n",
       "    <\/tr>\n",
       "    <tr>\n",
       "      <th>77<\/th>\n",
       "      <td>Adelie<\/td>\n",
       "      <td>Torgersen<\/td>\n",
       "      <td>37.2<\/td>\n",
       "      <td>19.4<\/td>\n",
       "      <td>184.0<\/td>\n",
       "      <td>3900.0<\/td>\n",
       "      <td>MALE<\/td>\n",
       "    <\/tr>\n",
       "    <tr>\n",
       "      <th>78<\/th>\n",
       "      <td>Adelie<\/td>\n",
       "      <td>Torgersen<\/td>\n",
       "      <td>36.2<\/td>\n",
       "      <td>16.1<\/td>\n",
       "      <td>187.0<\/td>\n",
       "      <td>3550.0<\/td>\n",
       "      <td>FEMALE<\/td>\n",
       "    <\/tr>\n",
       "    <tr>\n",
       "      <th>79<\/th>\n",
       "      <td>Adelie<\/td>\n",
       "      <td>Torgersen<\/td>\n",
       "      <td>42.1<\/td>\n",
       "      <td>19.1<\/td>\n",
       "      <td>195.0<\/td>\n",
       "      <td>4000.0<\/td>\n",
       "      <td>MALE<\/td>\n",
       "    <\/tr>\n",
       "    <tr>\n",
       "      <th>80<\/th>\n",
       "      <td>Adelie<\/td>\n",
       "      <td>Torgersen<\/td>\n",
       "      <td>34.6<\/td>\n",
       "      <td>17.2<\/td>\n",
       "      <td>189.0<\/td>\n",
       "      <td>3200.0<\/td>\n",
       "      <td>FEMALE<\/td>\n",
       "    <\/tr>\n",
       "    <tr>\n",
       "      <th>81<\/th>\n",
       "      <td>Adelie<\/td>\n",
       "      <td>Torgersen<\/td>\n",
       "      <td>42.9<\/td>\n",
       "      <td>17.6<\/td>\n",
       "      <td>196.0<\/td>\n",
       "      <td>4700.0<\/td>\n",
       "      <td>MALE<\/td>\n",
       "    <\/tr>\n",
       "    <tr>\n",
       "      <th>82<\/th>\n",
       "      <td>Adelie<\/td>\n",
       "      <td>Torgersen<\/td>\n",
       "      <td>36.7<\/td>\n",
       "      <td>18.8<\/td>\n",
       "      <td>187.0<\/td>\n",
       "      <td>3800.0<\/td>\n",
       "      <td>FEMALE<\/td>\n",
       "    <\/tr>\n",
       "    <tr>\n",
       "      <th>83<\/th>\n",
       "      <td>Adelie<\/td>\n",
       "      <td>Torgersen<\/td>\n",
       "      <td>35.1<\/td>\n",
       "      <td>19.4<\/td>\n",
       "      <td>193.0<\/td>\n",
       "      <td>4200.0<\/td>\n",
       "      <td>MALE<\/td>\n",
       "    <\/tr>\n",
       "    <tr>\n",
       "      <th>92<\/th>\n",
       "      <td>Adelie<\/td>\n",
       "      <td>Dream<\/td>\n",
       "      <td>34.0<\/td>\n",
       "      <td>17.1<\/td>\n",
       "      <td>185.0<\/td>\n",
       "      <td>3400.0<\/td>\n",
       "      <td>FEMALE<\/td>\n",
       "    <\/tr>\n",
       "    <tr>\n",
       "      <th>98<\/th>\n",
       "      <td>Adelie<\/td>\n",
       "      <td>Dream<\/td>\n",
       "      <td>33.1<\/td>\n",
       "      <td>16.1<\/td>\n",
       "      <td>178.0<\/td>\n",
       "      <td>2900.0<\/td>\n",
       "      <td>FEMALE<\/td>\n",
       "    <\/tr>\n",
       "    <tr>\n",
       "      <th>116<\/th>\n",
       "      <td>Adelie<\/td>\n",
       "      <td>Torgersen<\/td>\n",
       "      <td>38.6<\/td>\n",
       "      <td>17.0<\/td>\n",
       "      <td>188.0<\/td>\n",
       "      <td>2900.0<\/td>\n",
       "      <td>FEMALE<\/td>\n",
       "    <\/tr>\n",
       "    <tr>\n",
       "      <th>117<\/th>\n",
       "      <td>Adelie<\/td>\n",
       "      <td>Torgersen<\/td>\n",
       "      <td>37.3<\/td>\n",
       "      <td>20.5<\/td>\n",
       "      <td>199.0<\/td>\n",
       "      <td>3775.0<\/td>\n",
       "      <td>MALE<\/td>\n",
       "    <\/tr>\n",
       "    <tr>\n",
       "      <th>118<\/th>\n",
       "      <td>Adelie<\/td>\n",
       "      <td>Torgersen<\/td>\n",
       "      <td>35.7<\/td>\n",
       "      <td>17.0<\/td>\n",
       "      <td>189.0<\/td>\n",
       "      <td>3350.0<\/td>\n",
       "      <td>FEMALE<\/td>\n",
       "    <\/tr>\n",
       "    <tr>\n",
       "      <th>119<\/th>\n",
       "      <td>Adelie<\/td>\n",
       "      <td>Torgersen<\/td>\n",
       "      <td>41.1<\/td>\n",
       "      <td>18.6<\/td>\n",
       "      <td>189.0<\/td>\n",
       "      <td>3325.0<\/td>\n",
       "      <td>MALE<\/td>\n",
       "    <\/tr>\n",
       "    <tr>\n",
       "      <th>120<\/th>\n",
       "      <td>Adelie<\/td>\n",
       "      <td>Torgersen<\/td>\n",
       "      <td>36.2<\/td>\n",
       "      <td>17.2<\/td>\n",
       "      <td>187.0<\/td>\n",
       "      <td>3150.0<\/td>\n",
       "      <td>FEMALE<\/td>\n",
       "    <\/tr>\n",
       "    <tr>\n",
       "      <th>121<\/th>\n",
       "      <td>Adelie<\/td>\n",
       "      <td>Torgersen<\/td>\n",
       "      <td>37.7<\/td>\n",
       "      <td>19.8<\/td>\n",
       "      <td>198.0<\/td>\n",
       "      <td>3500.0<\/td>\n",
       "      <td>MALE<\/td>\n",
       "    <\/tr>\n",
       "    <tr>\n",
       "      <th>122<\/th>\n",
       "      <td>Adelie<\/td>\n",
       "      <td>Torgersen<\/td>\n",
       "      <td>40.2<\/td>\n",
       "      <td>17.0<\/td>\n",
       "      <td>176.0<\/td>\n",
       "      <td>3450.0<\/td>\n",
       "      <td>FEMALE<\/td>\n",
       "    <\/tr>\n",
       "    <tr>\n",
       "      <th>123<\/th>\n",
       "      <td>Adelie<\/td>\n",
       "      <td>Torgersen<\/td>\n",
       "      <td>41.4<\/td>\n",
       "      <td>18.5<\/td>\n",
       "      <td>202.0<\/td>\n",
       "      <td>3875.0<\/td>\n",
       "      <td>MALE<\/td>\n",
       "    <\/tr>\n",
       "    <tr>\n",
       "      <th>124<\/th>\n",
       "      <td>Adelie<\/td>\n",
       "      <td>Torgersen<\/td>\n",
       "      <td>35.2<\/td>\n",
       "      <td>15.9<\/td>\n",
       "      <td>186.0<\/td>\n",
       "      <td>3050.0<\/td>\n",
       "      <td>FEMALE<\/td>\n",
       "    <\/tr>\n",
       "    <tr>\n",
       "      <th>125<\/th>\n",
       "      <td>Adelie<\/td>\n",
       "      <td>Torgersen<\/td>\n",
       "      <td>40.6<\/td>\n",
       "      <td>19.0<\/td>\n",
       "      <td>199.0<\/td>\n",
       "      <td>4000.0<\/td>\n",
       "      <td>MALE<\/td>\n",
       "    <\/tr>\n",
       "    <tr>\n",
       "      <th>126<\/th>\n",
       "      <td>Adelie<\/td>\n",
       "      <td>Torgersen<\/td>\n",
       "      <td>38.8<\/td>\n",
       "      <td>17.6<\/td>\n",
       "      <td>191.0<\/td>\n",
       "      <td>3275.0<\/td>\n",
       "      <td>FEMALE<\/td>\n",
       "    <\/tr>\n",
       "    <tr>\n",
       "      <th>127<\/th>\n",
       "      <td>Adelie<\/td>\n",
       "      <td>Torgersen<\/td>\n",
       "      <td>41.5<\/td>\n",
       "      <td>18.3<\/td>\n",
       "      <td>195.0<\/td>\n",
       "      <td>4300.0<\/td>\n",
       "      <td>MALE<\/td>\n",
       "    <\/tr>\n",
       "    <tr>\n",
       "      <th>128<\/th>\n",
       "      <td>Adelie<\/td>\n",
       "      <td>Torgersen<\/td>\n",
       "      <td>39.0<\/td>\n",
       "      <td>17.1<\/td>\n",
       "      <td>191.0<\/td>\n",
       "      <td>3050.0<\/td>\n",
       "      <td>FEMALE<\/td>\n",
       "    <\/tr>\n",
       "    <tr>\n",
       "      <th>129<\/th>\n",
       "      <td>Adelie<\/td>\n",
       "      <td>Torgersen<\/td>\n",
       "      <td>44.1<\/td>\n",
       "      <td>18.0<\/td>\n",
       "      <td>210.0<\/td>\n",
       "      <td>4000.0<\/td>\n",
       "      <td>MALE<\/td>\n",
       "    <\/tr>\n",
       "    <tr>\n",
       "      <th>130<\/th>\n",
       "      <td>Adelie<\/td>\n",
       "      <td>Torgersen<\/td>\n",
       "      <td>38.5<\/td>\n",
       "      <td>17.9<\/td>\n",
       "      <td>190.0<\/td>\n",
       "      <td>3325.0<\/td>\n",
       "      <td>FEMALE<\/td>\n",
       "    <\/tr>\n",
       "    <tr>\n",
       "      <th>131<\/th>\n",
       "      <td>Adelie<\/td>\n",
       "      <td>Torgersen<\/td>\n",
       "      <td>43.1<\/td>\n",
       "      <td>19.2<\/td>\n",
       "      <td>197.0<\/td>\n",
       "      <td>3500.0<\/td>\n",
       "      <td>MALE<\/td>\n",
       "    <\/tr>\n",
       "    <tr>\n",
       "      <th>142<\/th>\n",
       "      <td>Adelie<\/td>\n",
       "      <td>Dream<\/td>\n",
       "      <td>32.1<\/td>\n",
       "      <td>15.5<\/td>\n",
       "      <td>188.0<\/td>\n",
       "      <td>3050.0<\/td>\n",
       "      <td>FEMALE<\/td>\n",
       "    <\/tr>\n",
       "  <\/tbody>\n",
       "<\/table>\n",
       "<\/div>"
      ]
     },
     "metadata":{
      
     },
     "output_type":"display_data"
    }
   ],
   "metadata":{
    "datalore":{
     "node_id":"052DANkoQlcZqFk9ss45Jh",
     "type":"CODE",
     "hide_input_from_viewers":false,
     "hide_output_from_viewers":false
    }
   }
  },
  {
   "cell_type":"code",
   "source":[
    "# check missing in each column\n",
    "penguins.isna().sum()"
   ],
   "execution_count":13,
   "outputs":[
    {
     "data":{
      "text\/html":[
       
      ]
     },
     "metadata":{
      
     },
     "output_type":"display_data"
    }
   ],
   "metadata":{
    "datalore":{
     "node_id":"L4KpjlFw3B2ls3nmTwNolA",
     "type":"CODE",
     "hide_input_from_viewers":false,
     "hide_output_from_viewers":false
    }
   }
  },
  {
   "cell_type":"code",
   "source":[
    "# filter missing values in column sex\n",
    "penguins[penguins['bill_length_mm'].isna()]"
   ],
   "execution_count":14,
   "outputs":[
    {
     "data":{
      "text\/html":[
       "<div>\n",
       "<style scoped>\n",
       "    .dataframe tbody tr th:only-of-type {\n",
       "        vertical-align: middle;\n",
       "    }\n",
       "\n",
       "    .dataframe tbody tr th {\n",
       "        vertical-align: top;\n",
       "    }\n",
       "\n",
       "    .dataframe thead th {\n",
       "        text-align: right;\n",
       "    }\n",
       "<\/style>\n",
       "<table border=\"1\" class=\"dataframe\">\n",
       "  <thead>\n",
       "    <tr style=\"text-align: right;\">\n",
       "      <th><\/th>\n",
       "      <th>species<\/th>\n",
       "      <th>island<\/th>\n",
       "      <th>bill_length_mm<\/th>\n",
       "      <th>bill_depth_mm<\/th>\n",
       "      <th>flipper_length_mm<\/th>\n",
       "      <th>body_mass_g<\/th>\n",
       "      <th>sex<\/th>\n",
       "    <\/tr>\n",
       "  <\/thead>\n",
       "  <tbody>\n",
       "    <tr>\n",
       "      <th>3<\/th>\n",
       "      <td>Adelie<\/td>\n",
       "      <td>Torgersen<\/td>\n",
       "      <td>NaN<\/td>\n",
       "      <td>NaN<\/td>\n",
       "      <td>NaN<\/td>\n",
       "      <td>NaN<\/td>\n",
       "      <td>NaN<\/td>\n",
       "    <\/tr>\n",
       "    <tr>\n",
       "      <th>339<\/th>\n",
       "      <td>Gentoo<\/td>\n",
       "      <td>Biscoe<\/td>\n",
       "      <td>NaN<\/td>\n",
       "      <td>NaN<\/td>\n",
       "      <td>NaN<\/td>\n",
       "      <td>NaN<\/td>\n",
       "      <td>NaN<\/td>\n",
       "    <\/tr>\n",
       "  <\/tbody>\n",
       "<\/table>\n",
       "<\/div>"
      ]
     },
     "metadata":{
      
     },
     "output_type":"display_data"
    }
   ],
   "metadata":{
    "datalore":{
     "node_id":"Puww97ELN3pZIvD5vkY7xS",
     "type":"CODE",
     "hide_input_from_viewers":false,
     "hide_output_from_viewers":false
    }
   }
  },
  {
   "cell_type":"code",
   "source":[
    "# drop na\n",
    "clean_penguins = penguins.dropna()\n",
    "clean_penguins.head(10)"
   ],
   "execution_count":15,
   "outputs":[
    {
     "data":{
      "text\/html":[
       "<div>\n",
       "<style scoped>\n",
       "    .dataframe tbody tr th:only-of-type {\n",
       "        vertical-align: middle;\n",
       "    }\n",
       "\n",
       "    .dataframe tbody tr th {\n",
       "        vertical-align: top;\n",
       "    }\n",
       "\n",
       "    .dataframe thead th {\n",
       "        text-align: right;\n",
       "    }\n",
       "<\/style>\n",
       "<table border=\"1\" class=\"dataframe\">\n",
       "  <thead>\n",
       "    <tr style=\"text-align: right;\">\n",
       "      <th><\/th>\n",
       "      <th>species<\/th>\n",
       "      <th>island<\/th>\n",
       "      <th>bill_length_mm<\/th>\n",
       "      <th>bill_depth_mm<\/th>\n",
       "      <th>flipper_length_mm<\/th>\n",
       "      <th>body_mass_g<\/th>\n",
       "      <th>sex<\/th>\n",
       "    <\/tr>\n",
       "  <\/thead>\n",
       "  <tbody>\n",
       "    <tr>\n",
       "      <th>0<\/th>\n",
       "      <td>Adelie<\/td>\n",
       "      <td>Torgersen<\/td>\n",
       "      <td>39.1<\/td>\n",
       "      <td>18.7<\/td>\n",
       "      <td>181.0<\/td>\n",
       "      <td>3750.0<\/td>\n",
       "      <td>MALE<\/td>\n",
       "    <\/tr>\n",
       "    <tr>\n",
       "      <th>1<\/th>\n",
       "      <td>Adelie<\/td>\n",
       "      <td>Torgersen<\/td>\n",
       "      <td>39.5<\/td>\n",
       "      <td>17.4<\/td>\n",
       "      <td>186.0<\/td>\n",
       "      <td>3800.0<\/td>\n",
       "      <td>FEMALE<\/td>\n",
       "    <\/tr>\n",
       "    <tr>\n",
       "      <th>2<\/th>\n",
       "      <td>Adelie<\/td>\n",
       "      <td>Torgersen<\/td>\n",
       "      <td>40.3<\/td>\n",
       "      <td>18.0<\/td>\n",
       "      <td>195.0<\/td>\n",
       "      <td>3250.0<\/td>\n",
       "      <td>FEMALE<\/td>\n",
       "    <\/tr>\n",
       "    <tr>\n",
       "      <th>4<\/th>\n",
       "      <td>Adelie<\/td>\n",
       "      <td>Torgersen<\/td>\n",
       "      <td>36.7<\/td>\n",
       "      <td>19.3<\/td>\n",
       "      <td>193.0<\/td>\n",
       "      <td>3450.0<\/td>\n",
       "      <td>FEMALE<\/td>\n",
       "    <\/tr>\n",
       "    <tr>\n",
       "      <th>5<\/th>\n",
       "      <td>Adelie<\/td>\n",
       "      <td>Torgersen<\/td>\n",
       "      <td>39.3<\/td>\n",
       "      <td>20.6<\/td>\n",
       "      <td>190.0<\/td>\n",
       "      <td>3650.0<\/td>\n",
       "      <td>MALE<\/td>\n",
       "    <\/tr>\n",
       "    <tr>\n",
       "      <th>6<\/th>\n",
       "      <td>Adelie<\/td>\n",
       "      <td>Torgersen<\/td>\n",
       "      <td>38.9<\/td>\n",
       "      <td>17.8<\/td>\n",
       "      <td>181.0<\/td>\n",
       "      <td>3625.0<\/td>\n",
       "      <td>FEMALE<\/td>\n",
       "    <\/tr>\n",
       "    <tr>\n",
       "      <th>7<\/th>\n",
       "      <td>Adelie<\/td>\n",
       "      <td>Torgersen<\/td>\n",
       "      <td>39.2<\/td>\n",
       "      <td>19.6<\/td>\n",
       "      <td>195.0<\/td>\n",
       "      <td>4675.0<\/td>\n",
       "      <td>MALE<\/td>\n",
       "    <\/tr>\n",
       "    <tr>\n",
       "      <th>12<\/th>\n",
       "      <td>Adelie<\/td>\n",
       "      <td>Torgersen<\/td>\n",
       "      <td>41.1<\/td>\n",
       "      <td>17.6<\/td>\n",
       "      <td>182.0<\/td>\n",
       "      <td>3200.0<\/td>\n",
       "      <td>FEMALE<\/td>\n",
       "    <\/tr>\n",
       "    <tr>\n",
       "      <th>13<\/th>\n",
       "      <td>Adelie<\/td>\n",
       "      <td>Torgersen<\/td>\n",
       "      <td>38.6<\/td>\n",
       "      <td>21.2<\/td>\n",
       "      <td>191.0<\/td>\n",
       "      <td>3800.0<\/td>\n",
       "      <td>MALE<\/td>\n",
       "    <\/tr>\n",
       "    <tr>\n",
       "      <th>14<\/th>\n",
       "      <td>Adelie<\/td>\n",
       "      <td>Torgersen<\/td>\n",
       "      <td>34.6<\/td>\n",
       "      <td>21.1<\/td>\n",
       "      <td>198.0<\/td>\n",
       "      <td>4400.0<\/td>\n",
       "      <td>MALE<\/td>\n",
       "    <\/tr>\n",
       "  <\/tbody>\n",
       "<\/table>\n",
       "<\/div>"
      ]
     },
     "metadata":{
      
     },
     "output_type":"display_data"
    }
   ],
   "metadata":{
    "datalore":{
     "node_id":"1o4rZOWAsXebHgxNT3lyMe",
     "type":"CODE",
     "hide_input_from_viewers":false,
     "hide_output_from_viewers":false
    }
   }
  },
  {
   "cell_type":"code",
   "source":[
    "# fill missing values\n",
    "top5_penguins = penguins.head(5)"
   ],
   "execution_count":16,
   "outputs":[
    
   ],
   "metadata":{
    "datalore":{
     "node_id":"z5iPwRaf05XJrg8mQXkqVo",
     "type":"CODE",
     "hide_input_from_viewers":false,
     "hide_output_from_viewers":false
    }
   }
  },
  {
   "cell_type":"code",
   "source":[
    "avg_value = top5_penguins['bill_length_mm'].mean()\n",
    "print(avg_value)"
   ],
   "execution_count":17,
   "outputs":[
    {
     "name":"stdout",
     "text":[
      "38.9\n"
     ],
     "output_type":"stream"
    }
   ],
   "metadata":{
    "datalore":{
     "node_id":"78T7Lm8pU7QlcimXDb4kix",
     "type":"CODE",
     "hide_input_from_viewers":false,
     "hide_output_from_viewers":false
    }
   }
  },
  {
   "cell_type":"code",
   "source":[
    "top5_penguins=top5_penguins['bill_length_mm'].fillna(value = avg_value)\n",
    "top5_penguins"
   ],
   "execution_count":18,
   "outputs":[
    {
     "data":{
      "text\/html":[
       
      ]
     },
     "metadata":{
      
     },
     "output_type":"display_data"
    }
   ],
   "metadata":{
    "datalore":{
     "node_id":"YJp4Ov2YcTqQmh8kxFmkpx",
     "type":"CODE",
     "hide_input_from_viewers":false,
     "hide_output_from_viewers":false
    }
   }
  },
  {
   "cell_type":"code",
   "source":[
    "# sort bill_length_mm low to high ,high to low\n",
    "penguins.dropna().sort_values('bill_length_mm',ascending=False).head(10)"
   ],
   "execution_count":19,
   "outputs":[
    {
     "data":{
      "text\/html":[
       "<div>\n",
       "<style scoped>\n",
       "    .dataframe tbody tr th:only-of-type {\n",
       "        vertical-align: middle;\n",
       "    }\n",
       "\n",
       "    .dataframe tbody tr th {\n",
       "        vertical-align: top;\n",
       "    }\n",
       "\n",
       "    .dataframe thead th {\n",
       "        text-align: right;\n",
       "    }\n",
       "<\/style>\n",
       "<table border=\"1\" class=\"dataframe\">\n",
       "  <thead>\n",
       "    <tr style=\"text-align: right;\">\n",
       "      <th><\/th>\n",
       "      <th>species<\/th>\n",
       "      <th>island<\/th>\n",
       "      <th>bill_length_mm<\/th>\n",
       "      <th>bill_depth_mm<\/th>\n",
       "      <th>flipper_length_mm<\/th>\n",
       "      <th>body_mass_g<\/th>\n",
       "      <th>sex<\/th>\n",
       "    <\/tr>\n",
       "  <\/thead>\n",
       "  <tbody>\n",
       "    <tr>\n",
       "      <th>253<\/th>\n",
       "      <td>Gentoo<\/td>\n",
       "      <td>Biscoe<\/td>\n",
       "      <td>59.6<\/td>\n",
       "      <td>17.0<\/td>\n",
       "      <td>230.0<\/td>\n",
       "      <td>6050.0<\/td>\n",
       "      <td>MALE<\/td>\n",
       "    <\/tr>\n",
       "    <tr>\n",
       "      <th>169<\/th>\n",
       "      <td>Chinstrap<\/td>\n",
       "      <td>Dream<\/td>\n",
       "      <td>58.0<\/td>\n",
       "      <td>17.8<\/td>\n",
       "      <td>181.0<\/td>\n",
       "      <td>3700.0<\/td>\n",
       "      <td>FEMALE<\/td>\n",
       "    <\/tr>\n",
       "    <tr>\n",
       "      <th>321<\/th>\n",
       "      <td>Gentoo<\/td>\n",
       "      <td>Biscoe<\/td>\n",
       "      <td>55.9<\/td>\n",
       "      <td>17.0<\/td>\n",
       "      <td>228.0<\/td>\n",
       "      <td>5600.0<\/td>\n",
       "      <td>MALE<\/td>\n",
       "    <\/tr>\n",
       "    <tr>\n",
       "      <th>215<\/th>\n",
       "      <td>Chinstrap<\/td>\n",
       "      <td>Dream<\/td>\n",
       "      <td>55.8<\/td>\n",
       "      <td>19.8<\/td>\n",
       "      <td>207.0<\/td>\n",
       "      <td>4000.0<\/td>\n",
       "      <td>MALE<\/td>\n",
       "    <\/tr>\n",
       "    <tr>\n",
       "      <th>335<\/th>\n",
       "      <td>Gentoo<\/td>\n",
       "      <td>Biscoe<\/td>\n",
       "      <td>55.1<\/td>\n",
       "      <td>16.0<\/td>\n",
       "      <td>230.0<\/td>\n",
       "      <td>5850.0<\/td>\n",
       "      <td>MALE<\/td>\n",
       "    <\/tr>\n",
       "    <tr>\n",
       "      <th>283<\/th>\n",
       "      <td>Gentoo<\/td>\n",
       "      <td>Biscoe<\/td>\n",
       "      <td>54.3<\/td>\n",
       "      <td>15.7<\/td>\n",
       "      <td>231.0<\/td>\n",
       "      <td>5650.0<\/td>\n",
       "      <td>MALE<\/td>\n",
       "    <\/tr>\n",
       "    <tr>\n",
       "      <th>183<\/th>\n",
       "      <td>Chinstrap<\/td>\n",
       "      <td>Dream<\/td>\n",
       "      <td>54.2<\/td>\n",
       "      <td>20.8<\/td>\n",
       "      <td>201.0<\/td>\n",
       "      <td>4300.0<\/td>\n",
       "      <td>MALE<\/td>\n",
       "    <\/tr>\n",
       "    <tr>\n",
       "      <th>191<\/th>\n",
       "      <td>Chinstrap<\/td>\n",
       "      <td>Dream<\/td>\n",
       "      <td>53.5<\/td>\n",
       "      <td>19.9<\/td>\n",
       "      <td>205.0<\/td>\n",
       "      <td>4500.0<\/td>\n",
       "      <td>MALE<\/td>\n",
       "    <\/tr>\n",
       "    <tr>\n",
       "      <th>327<\/th>\n",
       "      <td>Gentoo<\/td>\n",
       "      <td>Biscoe<\/td>\n",
       "      <td>53.4<\/td>\n",
       "      <td>15.8<\/td>\n",
       "      <td>219.0<\/td>\n",
       "      <td>5500.0<\/td>\n",
       "      <td>MALE<\/td>\n",
       "    <\/tr>\n",
       "    <tr>\n",
       "      <th>181<\/th>\n",
       "      <td>Chinstrap<\/td>\n",
       "      <td>Dream<\/td>\n",
       "      <td>52.8<\/td>\n",
       "      <td>20.0<\/td>\n",
       "      <td>205.0<\/td>\n",
       "      <td>4550.0<\/td>\n",
       "      <td>MALE<\/td>\n",
       "    <\/tr>\n",
       "  <\/tbody>\n",
       "<\/table>\n",
       "<\/div>"
      ]
     },
     "metadata":{
      
     },
     "output_type":"display_data"
    }
   ],
   "metadata":{
    "datalore":{
     "node_id":"zSYWcjiwyOUGKIyRvzvGEX",
     "type":"CODE",
     "hide_input_from_viewers":false,
     "hide_output_from_viewers":false
    }
   }
  },
  {
   "cell_type":"code",
   "source":[
    "# sort multiple columns\n",
    "penguins.dropna().sort_values(['island','bill_length_mm'])"
   ],
   "execution_count":20,
   "outputs":[
    {
     "data":{
      "text\/html":[
       "<div>\n",
       "<style scoped>\n",
       "    .dataframe tbody tr th:only-of-type {\n",
       "        vertical-align: middle;\n",
       "    }\n",
       "\n",
       "    .dataframe tbody tr th {\n",
       "        vertical-align: top;\n",
       "    }\n",
       "\n",
       "    .dataframe thead th {\n",
       "        text-align: right;\n",
       "    }\n",
       "<\/style>\n",
       "<table border=\"1\" class=\"dataframe\">\n",
       "  <thead>\n",
       "    <tr style=\"text-align: right;\">\n",
       "      <th><\/th>\n",
       "      <th>species<\/th>\n",
       "      <th>island<\/th>\n",
       "      <th>bill_length_mm<\/th>\n",
       "      <th>bill_depth_mm<\/th>\n",
       "      <th>flipper_length_mm<\/th>\n",
       "      <th>body_mass_g<\/th>\n",
       "      <th>sex<\/th>\n",
       "    <\/tr>\n",
       "  <\/thead>\n",
       "  <tbody>\n",
       "    <tr>\n",
       "      <th>54<\/th>\n",
       "      <td>Adelie<\/td>\n",
       "      <td>Biscoe<\/td>\n",
       "      <td>34.5<\/td>\n",
       "      <td>18.1<\/td>\n",
       "      <td>187.0<\/td>\n",
       "      <td>2900.0<\/td>\n",
       "      <td>FEMALE<\/td>\n",
       "    <\/tr>\n",
       "    <tr>\n",
       "      <th>52<\/th>\n",
       "      <td>Adelie<\/td>\n",
       "      <td>Biscoe<\/td>\n",
       "      <td>35.0<\/td>\n",
       "      <td>17.9<\/td>\n",
       "      <td>190.0<\/td>\n",
       "      <td>3450.0<\/td>\n",
       "      <td>FEMALE<\/td>\n",
       "    <\/tr>\n",
       "    <tr>\n",
       "      <th>100<\/th>\n",
       "      <td>Adelie<\/td>\n",
       "      <td>Biscoe<\/td>\n",
       "      <td>35.0<\/td>\n",
       "      <td>17.9<\/td>\n",
       "      <td>192.0<\/td>\n",
       "      <td>3725.0<\/td>\n",
       "      <td>FEMALE<\/td>\n",
       "    <\/tr>\n",
       "    <tr>\n",
       "      <th>25<\/th>\n",
       "      <td>Adelie<\/td>\n",
       "      <td>Biscoe<\/td>\n",
       "      <td>35.3<\/td>\n",
       "      <td>18.9<\/td>\n",
       "      <td>187.0<\/td>\n",
       "      <td>3800.0<\/td>\n",
       "      <td>FEMALE<\/td>\n",
       "    <\/tr>\n",
       "    <tr>\n",
       "      <th>66<\/th>\n",
       "      <td>Adelie<\/td>\n",
       "      <td>Biscoe<\/td>\n",
       "      <td>35.5<\/td>\n",
       "      <td>16.2<\/td>\n",
       "      <td>195.0<\/td>\n",
       "      <td>3350.0<\/td>\n",
       "      <td>FEMALE<\/td>\n",
       "    <\/tr>\n",
       "    <tr>\n",
       "      <th>...<\/th>\n",
       "      <td>...<\/td>\n",
       "      <td>...<\/td>\n",
       "      <td>...<\/td>\n",
       "      <td>...<\/td>\n",
       "      <td>...<\/td>\n",
       "      <td>...<\/td>\n",
       "      <td>...<\/td>\n",
       "    <\/tr>\n",
       "    <tr>\n",
       "      <th>81<\/th>\n",
       "      <td>Adelie<\/td>\n",
       "      <td>Torgersen<\/td>\n",
       "      <td>42.9<\/td>\n",
       "      <td>17.6<\/td>\n",
       "      <td>196.0<\/td>\n",
       "      <td>4700.0<\/td>\n",
       "      <td>MALE<\/td>\n",
       "    <\/tr>\n",
       "    <tr>\n",
       "      <th>131<\/th>\n",
       "      <td>Adelie<\/td>\n",
       "      <td>Torgersen<\/td>\n",
       "      <td>43.1<\/td>\n",
       "      <td>19.2<\/td>\n",
       "      <td>197.0<\/td>\n",
       "      <td>3500.0<\/td>\n",
       "      <td>MALE<\/td>\n",
       "    <\/tr>\n",
       "    <tr>\n",
       "      <th>129<\/th>\n",
       "      <td>Adelie<\/td>\n",
       "      <td>Torgersen<\/td>\n",
       "      <td>44.1<\/td>\n",
       "      <td>18.0<\/td>\n",
       "      <td>210.0<\/td>\n",
       "      <td>4000.0<\/td>\n",
       "      <td>MALE<\/td>\n",
       "    <\/tr>\n",
       "    <tr>\n",
       "      <th>73<\/th>\n",
       "      <td>Adelie<\/td>\n",
       "      <td>Torgersen<\/td>\n",
       "      <td>45.8<\/td>\n",
       "      <td>18.9<\/td>\n",
       "      <td>197.0<\/td>\n",
       "      <td>4150.0<\/td>\n",
       "      <td>MALE<\/td>\n",
       "    <\/tr>\n",
       "    <tr>\n",
       "      <th>19<\/th>\n",
       "      <td>Adelie<\/td>\n",
       "      <td>Torgersen<\/td>\n",
       "      <td>46.0<\/td>\n",
       "      <td>21.5<\/td>\n",
       "      <td>194.0<\/td>\n",
       "      <td>4200.0<\/td>\n",
       "      <td>MALE<\/td>\n",
       "    <\/tr>\n",
       "  <\/tbody>\n",
       "<\/table>\n",
       "<p>333 rows × 7 columns<\/p>\n",
       "<\/div>"
      ]
     },
     "metadata":{
      
     },
     "output_type":"display_data"
    }
   ],
   "metadata":{
    "datalore":{
     "node_id":"5rJQu6jBuioEAygcj8QDWg",
     "type":"CODE",
     "hide_input_from_viewers":false,
     "hide_output_from_viewers":false
    }
   }
  },
  {
   "cell_type":"code",
   "source":[
    "# unique values\n",
    "penguins['species'].unique()"
   ],
   "execution_count":21,
   "outputs":[
    {
     "data":{
      "text\/html":[
       
      ]
     },
     "metadata":{
      
     },
     "output_type":"display_data"
    }
   ],
   "metadata":{
    "datalore":{
     "node_id":"A45aVeUXycjE2w4yuNOLSS",
     "type":"CODE",
     "hide_input_from_viewers":false,
     "hide_output_from_viewers":false
    }
   }
  },
  {
   "cell_type":"code",
   "source":[
    "# count values\n",
    "penguins['species'].value_counts()"
   ],
   "execution_count":22,
   "outputs":[
    {
     "data":{
      "text\/html":[
       
      ]
     },
     "metadata":{
      
     },
     "output_type":"display_data"
    }
   ],
   "metadata":{
    "datalore":{
     "node_id":"UxT1WR7EwlQu6Y87JM48A5",
     "type":"CODE",
     "hide_input_from_viewers":false,
     "hide_output_from_viewers":false
    }
   }
  },
  {
   "cell_type":"code",
   "source":[
    "#count more than one columns\n",
    "result = penguins[['island','species'] ].value_counts().reset_index()\n",
    "result.columns = ['island','species','count']\n",
    "result"
   ],
   "execution_count":23,
   "outputs":[
    {
     "data":{
      "text\/html":[
       "<div>\n",
       "<style scoped>\n",
       "    .dataframe tbody tr th:only-of-type {\n",
       "        vertical-align: middle;\n",
       "    }\n",
       "\n",
       "    .dataframe tbody tr th {\n",
       "        vertical-align: top;\n",
       "    }\n",
       "\n",
       "    .dataframe thead th {\n",
       "        text-align: right;\n",
       "    }\n",
       "<\/style>\n",
       "<table border=\"1\" class=\"dataframe\">\n",
       "  <thead>\n",
       "    <tr style=\"text-align: right;\">\n",
       "      <th><\/th>\n",
       "      <th>island<\/th>\n",
       "      <th>species<\/th>\n",
       "      <th>count<\/th>\n",
       "    <\/tr>\n",
       "  <\/thead>\n",
       "  <tbody>\n",
       "    <tr>\n",
       "      <th>0<\/th>\n",
       "      <td>Biscoe<\/td>\n",
       "      <td>Gentoo<\/td>\n",
       "      <td>124<\/td>\n",
       "    <\/tr>\n",
       "    <tr>\n",
       "      <th>1<\/th>\n",
       "      <td>Dream<\/td>\n",
       "      <td>Chinstrap<\/td>\n",
       "      <td>68<\/td>\n",
       "    <\/tr>\n",
       "    <tr>\n",
       "      <th>2<\/th>\n",
       "      <td>Dream<\/td>\n",
       "      <td>Adelie<\/td>\n",
       "      <td>56<\/td>\n",
       "    <\/tr>\n",
       "    <tr>\n",
       "      <th>3<\/th>\n",
       "      <td>Torgersen<\/td>\n",
       "      <td>Adelie<\/td>\n",
       "      <td>52<\/td>\n",
       "    <\/tr>\n",
       "    <tr>\n",
       "      <th>4<\/th>\n",
       "      <td>Biscoe<\/td>\n",
       "      <td>Adelie<\/td>\n",
       "      <td>44<\/td>\n",
       "    <\/tr>\n",
       "  <\/tbody>\n",
       "<\/table>\n",
       "<\/div>"
      ]
     },
     "metadata":{
      
     },
     "output_type":"display_data"
    }
   ],
   "metadata":{
    "datalore":{
     "node_id":"pzYL39CmEeLF50R45gEpAL",
     "type":"CODE",
     "hide_input_from_viewers":false,
     "hide_output_from_viewers":false
    }
   }
  },
  {
   "cell_type":"code",
   "source":[
    "#summarise dataframe\n",
    "penguins.describe(include='all')"
   ],
   "execution_count":24,
   "outputs":[
    {
     "data":{
      "text\/html":[
       "<div>\n",
       "<style scoped>\n",
       "    .dataframe tbody tr th:only-of-type {\n",
       "        vertical-align: middle;\n",
       "    }\n",
       "\n",
       "    .dataframe tbody tr th {\n",
       "        vertical-align: top;\n",
       "    }\n",
       "\n",
       "    .dataframe thead th {\n",
       "        text-align: right;\n",
       "    }\n",
       "<\/style>\n",
       "<table border=\"1\" class=\"dataframe\">\n",
       "  <thead>\n",
       "    <tr style=\"text-align: right;\">\n",
       "      <th><\/th>\n",
       "      <th>species<\/th>\n",
       "      <th>island<\/th>\n",
       "      <th>bill_length_mm<\/th>\n",
       "      <th>bill_depth_mm<\/th>\n",
       "      <th>flipper_length_mm<\/th>\n",
       "      <th>body_mass_g<\/th>\n",
       "      <th>sex<\/th>\n",
       "    <\/tr>\n",
       "  <\/thead>\n",
       "  <tbody>\n",
       "    <tr>\n",
       "      <th>count<\/th>\n",
       "      <td>344<\/td>\n",
       "      <td>344<\/td>\n",
       "      <td>342.000000<\/td>\n",
       "      <td>342.000000<\/td>\n",
       "      <td>342.000000<\/td>\n",
       "      <td>342.000000<\/td>\n",
       "      <td>333<\/td>\n",
       "    <\/tr>\n",
       "    <tr>\n",
       "      <th>unique<\/th>\n",
       "      <td>3<\/td>\n",
       "      <td>3<\/td>\n",
       "      <td>NaN<\/td>\n",
       "      <td>NaN<\/td>\n",
       "      <td>NaN<\/td>\n",
       "      <td>NaN<\/td>\n",
       "      <td>2<\/td>\n",
       "    <\/tr>\n",
       "    <tr>\n",
       "      <th>top<\/th>\n",
       "      <td>Adelie<\/td>\n",
       "      <td>Biscoe<\/td>\n",
       "      <td>NaN<\/td>\n",
       "      <td>NaN<\/td>\n",
       "      <td>NaN<\/td>\n",
       "      <td>NaN<\/td>\n",
       "      <td>MALE<\/td>\n",
       "    <\/tr>\n",
       "    <tr>\n",
       "      <th>freq<\/th>\n",
       "      <td>152<\/td>\n",
       "      <td>168<\/td>\n",
       "      <td>NaN<\/td>\n",
       "      <td>NaN<\/td>\n",
       "      <td>NaN<\/td>\n",
       "      <td>NaN<\/td>\n",
       "      <td>168<\/td>\n",
       "    <\/tr>\n",
       "    <tr>\n",
       "      <th>mean<\/th>\n",
       "      <td>NaN<\/td>\n",
       "      <td>NaN<\/td>\n",
       "      <td>43.921930<\/td>\n",
       "      <td>17.151170<\/td>\n",
       "      <td>200.915205<\/td>\n",
       "      <td>4201.754386<\/td>\n",
       "      <td>NaN<\/td>\n",
       "    <\/tr>\n",
       "    <tr>\n",
       "      <th>std<\/th>\n",
       "      <td>NaN<\/td>\n",
       "      <td>NaN<\/td>\n",
       "      <td>5.459584<\/td>\n",
       "      <td>1.974793<\/td>\n",
       "      <td>14.061714<\/td>\n",
       "      <td>801.954536<\/td>\n",
       "      <td>NaN<\/td>\n",
       "    <\/tr>\n",
       "    <tr>\n",
       "      <th>min<\/th>\n",
       "      <td>NaN<\/td>\n",
       "      <td>NaN<\/td>\n",
       "      <td>32.100000<\/td>\n",
       "      <td>13.100000<\/td>\n",
       "      <td>172.000000<\/td>\n",
       "      <td>2700.000000<\/td>\n",
       "      <td>NaN<\/td>\n",
       "    <\/tr>\n",
       "    <tr>\n",
       "      <th>25%<\/th>\n",
       "      <td>NaN<\/td>\n",
       "      <td>NaN<\/td>\n",
       "      <td>39.225000<\/td>\n",
       "      <td>15.600000<\/td>\n",
       "      <td>190.000000<\/td>\n",
       "      <td>3550.000000<\/td>\n",
       "      <td>NaN<\/td>\n",
       "    <\/tr>\n",
       "    <tr>\n",
       "      <th>50%<\/th>\n",
       "      <td>NaN<\/td>\n",
       "      <td>NaN<\/td>\n",
       "      <td>44.450000<\/td>\n",
       "      <td>17.300000<\/td>\n",
       "      <td>197.000000<\/td>\n",
       "      <td>4050.000000<\/td>\n",
       "      <td>NaN<\/td>\n",
       "    <\/tr>\n",
       "    <tr>\n",
       "      <th>75%<\/th>\n",
       "      <td>NaN<\/td>\n",
       "      <td>NaN<\/td>\n",
       "      <td>48.500000<\/td>\n",
       "      <td>18.700000<\/td>\n",
       "      <td>213.000000<\/td>\n",
       "      <td>4750.000000<\/td>\n",
       "      <td>NaN<\/td>\n",
       "    <\/tr>\n",
       "    <tr>\n",
       "      <th>max<\/th>\n",
       "      <td>NaN<\/td>\n",
       "      <td>NaN<\/td>\n",
       "      <td>59.600000<\/td>\n",
       "      <td>21.500000<\/td>\n",
       "      <td>231.000000<\/td>\n",
       "      <td>6300.000000<\/td>\n",
       "      <td>NaN<\/td>\n",
       "    <\/tr>\n",
       "  <\/tbody>\n",
       "<\/table>\n",
       "<\/div>"
      ]
     },
     "metadata":{
      
     },
     "output_type":"display_data"
    }
   ],
   "metadata":{
    "datalore":{
     "node_id":"jlQ37ilbKw87Tt412JZALz",
     "type":"CODE",
     "hide_input_from_viewers":false,
     "hide_output_from_viewers":false
    }
   }
  },
  {
   "cell_type":"code",
   "source":[
    "# average,mean\n",
    "penguins['bill_length_mm'].median()"
   ],
   "execution_count":25,
   "outputs":[
    {
     "data":{
      "text\/plain":[
       "44.45"
      ]
     },
     "metadata":{
      
     },
     "output_type":"display_data"
    }
   ],
   "metadata":{
    "datalore":{
     "node_id":"TRbIclkkZH7irPAJVv5UMa",
     "type":"CODE",
     "hide_input_from_viewers":false,
     "hide_output_from_viewers":false
    }
   }
  },
  {
   "cell_type":"code",
   "source":[
    "# group by + sum\/mean\n",
    "# penguins[penguis['species']] == 'Adelie']['bill_length].mean()\n",
    "\n",
    "penguins.groupby('species')['bill_length_mm'].median()"
   ],
   "execution_count":26,
   "outputs":[
    {
     "data":{
      "text\/html":[
       
      ]
     },
     "metadata":{
      
     },
     "output_type":"display_data"
    }
   ],
   "metadata":{
    "datalore":{
     "node_id":"uZqZCgF5PY12gE6COzoUbN",
     "type":"CODE",
     "hide_input_from_viewers":false,
     "hide_output_from_viewers":false
    }
   }
  },
  {
   "cell_type":"code",
   "source":[
    "penguins.groupby('species')['bill_length_mm'].agg(['min','mean','median','std','max'])"
   ],
   "execution_count":27,
   "outputs":[
    {
     "data":{
      "text\/html":[
       "<div>\n",
       "<style scoped>\n",
       "    .dataframe tbody tr th:only-of-type {\n",
       "        vertical-align: middle;\n",
       "    }\n",
       "\n",
       "    .dataframe tbody tr th {\n",
       "        vertical-align: top;\n",
       "    }\n",
       "\n",
       "    .dataframe thead th {\n",
       "        text-align: right;\n",
       "    }\n",
       "<\/style>\n",
       "<table border=\"1\" class=\"dataframe\">\n",
       "  <thead>\n",
       "    <tr style=\"text-align: right;\">\n",
       "      <th><\/th>\n",
       "      <th>min<\/th>\n",
       "      <th>mean<\/th>\n",
       "      <th>median<\/th>\n",
       "      <th>std<\/th>\n",
       "      <th>max<\/th>\n",
       "    <\/tr>\n",
       "    <tr>\n",
       "      <th>species<\/th>\n",
       "      <th><\/th>\n",
       "      <th><\/th>\n",
       "      <th><\/th>\n",
       "      <th><\/th>\n",
       "      <th><\/th>\n",
       "    <\/tr>\n",
       "  <\/thead>\n",
       "  <tbody>\n",
       "    <tr>\n",
       "      <th>Adelie<\/th>\n",
       "      <td>32.1<\/td>\n",
       "      <td>38.791391<\/td>\n",
       "      <td>38.80<\/td>\n",
       "      <td>2.663405<\/td>\n",
       "      <td>46.0<\/td>\n",
       "    <\/tr>\n",
       "    <tr>\n",
       "      <th>Chinstrap<\/th>\n",
       "      <td>40.9<\/td>\n",
       "      <td>48.833824<\/td>\n",
       "      <td>49.55<\/td>\n",
       "      <td>3.339256<\/td>\n",
       "      <td>58.0<\/td>\n",
       "    <\/tr>\n",
       "    <tr>\n",
       "      <th>Gentoo<\/th>\n",
       "      <td>40.9<\/td>\n",
       "      <td>47.504878<\/td>\n",
       "      <td>47.30<\/td>\n",
       "      <td>3.081857<\/td>\n",
       "      <td>59.6<\/td>\n",
       "    <\/tr>\n",
       "  <\/tbody>\n",
       "<\/table>\n",
       "<\/div>"
      ]
     },
     "metadata":{
      
     },
     "output_type":"display_data"
    }
   ],
   "metadata":{
    "datalore":{
     "node_id":"x2j6dNXikZJ6RMC8xhNWip",
     "type":"CODE",
     "hide_input_from_viewers":false,
     "hide_output_from_viewers":false
    }
   }
  },
  {
   "cell_type":"code",
   "source":[
    "# group by more than one columns\n",
    "result = penguins.groupby(['island','species'])['bill_length_mm'].agg(['min','mean','max']).reset_index()\n",
    "\n",
    "result.to_csv('result.csv')"
   ],
   "execution_count":28,
   "outputs":[
    
   ],
   "metadata":{
    "datalore":{
     "node_id":"OfdtXc2IroUahJUUsphXxU",
     "type":"CODE",
     "hide_input_from_viewers":false,
     "hide_output_from_viewers":false
    }
   }
  },
  {
   "cell_type":"code",
   "source":[
    "# if your code is long\n",
    "penguins.groupby(['island','species'])['bill_length_mm']\\\n",
    "    .agg(['min','mean','max'])\\\n",
    "    .reset_index()"
   ],
   "execution_count":29,
   "outputs":[
    {
     "data":{
      "text\/html":[
       "<div>\n",
       "<style scoped>\n",
       "    .dataframe tbody tr th:only-of-type {\n",
       "        vertical-align: middle;\n",
       "    }\n",
       "\n",
       "    .dataframe tbody tr th {\n",
       "        vertical-align: top;\n",
       "    }\n",
       "\n",
       "    .dataframe thead th {\n",
       "        text-align: right;\n",
       "    }\n",
       "<\/style>\n",
       "<table border=\"1\" class=\"dataframe\">\n",
       "  <thead>\n",
       "    <tr style=\"text-align: right;\">\n",
       "      <th><\/th>\n",
       "      <th>island<\/th>\n",
       "      <th>species<\/th>\n",
       "      <th>min<\/th>\n",
       "      <th>mean<\/th>\n",
       "      <th>max<\/th>\n",
       "    <\/tr>\n",
       "  <\/thead>\n",
       "  <tbody>\n",
       "    <tr>\n",
       "      <th>0<\/th>\n",
       "      <td>Biscoe<\/td>\n",
       "      <td>Adelie<\/td>\n",
       "      <td>34.5<\/td>\n",
       "      <td>38.975000<\/td>\n",
       "      <td>45.6<\/td>\n",
       "    <\/tr>\n",
       "    <tr>\n",
       "      <th>1<\/th>\n",
       "      <td>Biscoe<\/td>\n",
       "      <td>Gentoo<\/td>\n",
       "      <td>40.9<\/td>\n",
       "      <td>47.504878<\/td>\n",
       "      <td>59.6<\/td>\n",
       "    <\/tr>\n",
       "    <tr>\n",
       "      <th>2<\/th>\n",
       "      <td>Dream<\/td>\n",
       "      <td>Adelie<\/td>\n",
       "      <td>32.1<\/td>\n",
       "      <td>38.501786<\/td>\n",
       "      <td>44.1<\/td>\n",
       "    <\/tr>\n",
       "    <tr>\n",
       "      <th>3<\/th>\n",
       "      <td>Dream<\/td>\n",
       "      <td>Chinstrap<\/td>\n",
       "      <td>40.9<\/td>\n",
       "      <td>48.833824<\/td>\n",
       "      <td>58.0<\/td>\n",
       "    <\/tr>\n",
       "    <tr>\n",
       "      <th>4<\/th>\n",
       "      <td>Torgersen<\/td>\n",
       "      <td>Adelie<\/td>\n",
       "      <td>33.5<\/td>\n",
       "      <td>38.950980<\/td>\n",
       "      <td>46.0<\/td>\n",
       "    <\/tr>\n",
       "  <\/tbody>\n",
       "<\/table>\n",
       "<\/div>"
      ]
     },
     "metadata":{
      
     },
     "output_type":"display_data"
    }
   ],
   "metadata":{
    "datalore":{
     "node_id":"DjK76uGNOiKt6LmfiwigtD",
     "type":"CODE",
     "hide_input_from_viewers":false,
     "hide_output_from_viewers":false
    }
   }
  },
  {
   "cell_type":"code",
   "source":[
    "# map values MALE: m,FEMALE: f\n",
    "#penguins['sex'].head()\n",
    "\n",
    "penguins['sex_new'] = penguins['sex'].map({'MALE' : 'm','FEMALE': 'f'}).fillna('other')\n",
    "penguins.head()"
   ],
   "execution_count":30,
   "outputs":[
    {
     "data":{
      "text\/html":[
       "<div>\n",
       "<style scoped>\n",
       "    .dataframe tbody tr th:only-of-type {\n",
       "        vertical-align: middle;\n",
       "    }\n",
       "\n",
       "    .dataframe tbody tr th {\n",
       "        vertical-align: top;\n",
       "    }\n",
       "\n",
       "    .dataframe thead th {\n",
       "        text-align: right;\n",
       "    }\n",
       "<\/style>\n",
       "<table border=\"1\" class=\"dataframe\">\n",
       "  <thead>\n",
       "    <tr style=\"text-align: right;\">\n",
       "      <th><\/th>\n",
       "      <th>species<\/th>\n",
       "      <th>island<\/th>\n",
       "      <th>bill_length_mm<\/th>\n",
       "      <th>bill_depth_mm<\/th>\n",
       "      <th>flipper_length_mm<\/th>\n",
       "      <th>body_mass_g<\/th>\n",
       "      <th>sex<\/th>\n",
       "      <th>sex_new<\/th>\n",
       "    <\/tr>\n",
       "  <\/thead>\n",
       "  <tbody>\n",
       "    <tr>\n",
       "      <th>0<\/th>\n",
       "      <td>Adelie<\/td>\n",
       "      <td>Torgersen<\/td>\n",
       "      <td>39.1<\/td>\n",
       "      <td>18.7<\/td>\n",
       "      <td>181.0<\/td>\n",
       "      <td>3750.0<\/td>\n",
       "      <td>MALE<\/td>\n",
       "      <td>m<\/td>\n",
       "    <\/tr>\n",
       "    <tr>\n",
       "      <th>1<\/th>\n",
       "      <td>Adelie<\/td>\n",
       "      <td>Torgersen<\/td>\n",
       "      <td>39.5<\/td>\n",
       "      <td>17.4<\/td>\n",
       "      <td>186.0<\/td>\n",
       "      <td>3800.0<\/td>\n",
       "      <td>FEMALE<\/td>\n",
       "      <td>f<\/td>\n",
       "    <\/tr>\n",
       "    <tr>\n",
       "      <th>2<\/th>\n",
       "      <td>Adelie<\/td>\n",
       "      <td>Torgersen<\/td>\n",
       "      <td>40.3<\/td>\n",
       "      <td>18.0<\/td>\n",
       "      <td>195.0<\/td>\n",
       "      <td>3250.0<\/td>\n",
       "      <td>FEMALE<\/td>\n",
       "      <td>f<\/td>\n",
       "    <\/tr>\n",
       "    <tr>\n",
       "      <th>3<\/th>\n",
       "      <td>Adelie<\/td>\n",
       "      <td>Torgersen<\/td>\n",
       "      <td>NaN<\/td>\n",
       "      <td>NaN<\/td>\n",
       "      <td>NaN<\/td>\n",
       "      <td>NaN<\/td>\n",
       "      <td>NaN<\/td>\n",
       "      <td>other<\/td>\n",
       "    <\/tr>\n",
       "    <tr>\n",
       "      <th>4<\/th>\n",
       "      <td>Adelie<\/td>\n",
       "      <td>Torgersen<\/td>\n",
       "      <td>36.7<\/td>\n",
       "      <td>19.3<\/td>\n",
       "      <td>193.0<\/td>\n",
       "      <td>3450.0<\/td>\n",
       "      <td>FEMALE<\/td>\n",
       "      <td>f<\/td>\n",
       "    <\/tr>\n",
       "  <\/tbody>\n",
       "<\/table>\n",
       "<\/div>"
      ]
     },
     "metadata":{
      
     },
     "output_type":"display_data"
    }
   ],
   "metadata":{
    "datalore":{
     "node_id":"J2cJVKIZmCaNrQz1Y3bES5",
     "type":"CODE",
     "hide_input_from_viewers":false,
     "hide_output_from_viewers":false
    }
   }
  },
  {
   "cell_type":"code",
   "source":[
    "# pandas style\n",
    "penguins['bill_length_mm'].mean()"
   ],
   "execution_count":31,
   "outputs":[
    {
     "data":{
      "text\/plain":[
       "43.9219298245614"
      ]
     },
     "metadata":{
      
     },
     "output_type":"display_data"
    }
   ],
   "metadata":{
    "datalore":{
     "node_id":"HGfeMJeoakrtfk9xUhcdvb",
     "type":"CODE",
     "hide_input_from_viewers":false,
     "hide_output_from_viewers":false
    }
   }
  },
  {
   "cell_type":"code",
   "source":[
    "# numpy\n",
    "import numpy as np\n",
    "np.mean(penguins['bill_length_mm'])"
   ],
   "execution_count":33,
   "outputs":[
    {
     "data":{
      "text\/plain":[
       "43.9219298245614"
      ]
     },
     "metadata":{
      
     },
     "output_type":"display_data"
    }
   ],
   "metadata":{
    "datalore":{
     "node_id":"W2dhE3PL0DK5FVUHxu7GsA",
     "type":"CODE",
     "hide_input_from_viewers":false,
     "hide_output_from_viewers":false
    }
   }
  },
  {
   "cell_type":"code",
   "source":[
    "# other functions of numpy\n",
    "print(np.sum(penguins['bill_length_mm']))\n",
    "print(np.std(penguins['body_mass_g']))"
   ],
   "execution_count":35,
   "outputs":[
    {
     "name":"stdout",
     "text":[
      "15021.3\n",
      "800.7812292384522\n"
     ],
     "output_type":"stream"
    }
   ],
   "metadata":{
    "datalore":{
     "node_id":"IWUrsXKvPHfOq5ME5WaLuY",
     "type":"CODE",
     "hide_input_from_viewers":false,
     "hide_output_from_viewers":false
    }
   }
  },
  {
   "cell_type":"code",
   "source":[
    "score = pd.Series([80,55,62,95,20])"
   ],
   "execution_count":36,
   "outputs":[
    
   ],
   "metadata":{
    "datalore":{
     "node_id":"N8qIejxSQJXIwcwaLXEf6j",
     "type":"CODE",
     "hide_input_from_viewers":false,
     "hide_output_from_viewers":false
    }
   }
  },
  {
   "cell_type":"code",
   "source":[
    "grade = np.where(score >= 80 , \"passed\",\"failed\")\n",
    "print(grade)"
   ],
   "execution_count":38,
   "outputs":[
    {
     "name":"stdout",
     "text":[
      "['passed' 'failed' 'failed' 'passed' 'failed']\n"
     ],
     "output_type":"stream"
    }
   ],
   "metadata":{
    "datalore":{
     "node_id":"wRYTofFckao4bCUfkU9pEN",
     "type":"CODE",
     "hide_input_from_viewers":false,
     "hide_output_from_viewers":false
    }
   }
  },
  {
   "cell_type":"code",
   "source":[
    "penguins.head()"
   ],
   "execution_count":39,
   "outputs":[
    {
     "data":{
      "text\/html":[
       "<div>\n",
       "<style scoped>\n",
       "    .dataframe tbody tr th:only-of-type {\n",
       "        vertical-align: middle;\n",
       "    }\n",
       "\n",
       "    .dataframe tbody tr th {\n",
       "        vertical-align: top;\n",
       "    }\n",
       "\n",
       "    .dataframe thead th {\n",
       "        text-align: right;\n",
       "    }\n",
       "<\/style>\n",
       "<table border=\"1\" class=\"dataframe\">\n",
       "  <thead>\n",
       "    <tr style=\"text-align: right;\">\n",
       "      <th><\/th>\n",
       "      <th>species<\/th>\n",
       "      <th>island<\/th>\n",
       "      <th>bill_length_mm<\/th>\n",
       "      <th>bill_depth_mm<\/th>\n",
       "      <th>flipper_length_mm<\/th>\n",
       "      <th>body_mass_g<\/th>\n",
       "      <th>sex<\/th>\n",
       "      <th>sex_new<\/th>\n",
       "    <\/tr>\n",
       "  <\/thead>\n",
       "  <tbody>\n",
       "    <tr>\n",
       "      <th>0<\/th>\n",
       "      <td>Adelie<\/td>\n",
       "      <td>Torgersen<\/td>\n",
       "      <td>39.1<\/td>\n",
       "      <td>18.7<\/td>\n",
       "      <td>181.0<\/td>\n",
       "      <td>3750.0<\/td>\n",
       "      <td>MALE<\/td>\n",
       "      <td>m<\/td>\n",
       "    <\/tr>\n",
       "    <tr>\n",
       "      <th>1<\/th>\n",
       "      <td>Adelie<\/td>\n",
       "      <td>Torgersen<\/td>\n",
       "      <td>39.5<\/td>\n",
       "      <td>17.4<\/td>\n",
       "      <td>186.0<\/td>\n",
       "      <td>3800.0<\/td>\n",
       "      <td>FEMALE<\/td>\n",
       "      <td>f<\/td>\n",
       "    <\/tr>\n",
       "    <tr>\n",
       "      <th>2<\/th>\n",
       "      <td>Adelie<\/td>\n",
       "      <td>Torgersen<\/td>\n",
       "      <td>40.3<\/td>\n",
       "      <td>18.0<\/td>\n",
       "      <td>195.0<\/td>\n",
       "      <td>3250.0<\/td>\n",
       "      <td>FEMALE<\/td>\n",
       "      <td>f<\/td>\n",
       "    <\/tr>\n",
       "    <tr>\n",
       "      <th>3<\/th>\n",
       "      <td>Adelie<\/td>\n",
       "      <td>Torgersen<\/td>\n",
       "      <td>NaN<\/td>\n",
       "      <td>NaN<\/td>\n",
       "      <td>NaN<\/td>\n",
       "      <td>NaN<\/td>\n",
       "      <td>NaN<\/td>\n",
       "      <td>other<\/td>\n",
       "    <\/tr>\n",
       "    <tr>\n",
       "      <th>4<\/th>\n",
       "      <td>Adelie<\/td>\n",
       "      <td>Torgersen<\/td>\n",
       "      <td>36.7<\/td>\n",
       "      <td>19.3<\/td>\n",
       "      <td>193.0<\/td>\n",
       "      <td>3450.0<\/td>\n",
       "      <td>FEMALE<\/td>\n",
       "      <td>f<\/td>\n",
       "    <\/tr>\n",
       "  <\/tbody>\n",
       "<\/table>\n",
       "<\/div>"
      ]
     },
     "metadata":{
      
     },
     "output_type":"display_data"
    }
   ],
   "metadata":{
    "datalore":{
     "node_id":"wXtmMQmhriMIFGWamboJ33",
     "type":"CODE",
     "hide_input_from_viewers":false,
     "hide_output_from_viewers":false
    }
   }
  },
  {
   "cell_type":"code",
   "source":[
    "df = penguins.query(\"species == 'Adelie'\")[['species','island','bill_length_mm']].dropna()"
   ],
   "execution_count":40,
   "outputs":[
    
   ],
   "metadata":{
    "datalore":{
     "node_id":"ZrKgvvTN3gMqowoomch3c1",
     "type":"CODE",
     "hide_input_from_viewers":false,
     "hide_output_from_viewers":false
    }
   }
  },
  {
   "cell_type":"code",
   "source":[
    "df['new_column'] = np.where(df['bill_length_mm']>40,True,False)"
   ],
   "execution_count":42,
   "outputs":[
    
   ],
   "metadata":{
    "datalore":{
     "node_id":"MQWKpNv2tZ0tXx4CVnDasF",
     "type":"CODE",
     "hide_input_from_viewers":false,
     "hide_output_from_viewers":false
    }
   }
  },
  {
   "cell_type":"code",
   "source":[
    "df.head()"
   ],
   "execution_count":43,
   "outputs":[
    {
     "data":{
      "text\/html":[
       "<div>\n",
       "<style scoped>\n",
       "    .dataframe tbody tr th:only-of-type {\n",
       "        vertical-align: middle;\n",
       "    }\n",
       "\n",
       "    .dataframe tbody tr th {\n",
       "        vertical-align: top;\n",
       "    }\n",
       "\n",
       "    .dataframe thead th {\n",
       "        text-align: right;\n",
       "    }\n",
       "<\/style>\n",
       "<table border=\"1\" class=\"dataframe\">\n",
       "  <thead>\n",
       "    <tr style=\"text-align: right;\">\n",
       "      <th><\/th>\n",
       "      <th>species<\/th>\n",
       "      <th>island<\/th>\n",
       "      <th>bill_length_mm<\/th>\n",
       "      <th>new_column<\/th>\n",
       "    <\/tr>\n",
       "  <\/thead>\n",
       "  <tbody>\n",
       "    <tr>\n",
       "      <th>0<\/th>\n",
       "      <td>Adelie<\/td>\n",
       "      <td>Torgersen<\/td>\n",
       "      <td>39.1<\/td>\n",
       "      <td>False<\/td>\n",
       "    <\/tr>\n",
       "    <tr>\n",
       "      <th>1<\/th>\n",
       "      <td>Adelie<\/td>\n",
       "      <td>Torgersen<\/td>\n",
       "      <td>39.5<\/td>\n",
       "      <td>False<\/td>\n",
       "    <\/tr>\n",
       "    <tr>\n",
       "      <th>2<\/th>\n",
       "      <td>Adelie<\/td>\n",
       "      <td>Torgersen<\/td>\n",
       "      <td>40.3<\/td>\n",
       "      <td>True<\/td>\n",
       "    <\/tr>\n",
       "    <tr>\n",
       "      <th>4<\/th>\n",
       "      <td>Adelie<\/td>\n",
       "      <td>Torgersen<\/td>\n",
       "      <td>36.7<\/td>\n",
       "      <td>False<\/td>\n",
       "    <\/tr>\n",
       "    <tr>\n",
       "      <th>5<\/th>\n",
       "      <td>Adelie<\/td>\n",
       "      <td>Torgersen<\/td>\n",
       "      <td>39.3<\/td>\n",
       "      <td>False<\/td>\n",
       "    <\/tr>\n",
       "  <\/tbody>\n",
       "<\/table>\n",
       "<\/div>"
      ]
     },
     "metadata":{
      
     },
     "output_type":"display_data"
    }
   ],
   "metadata":{
    "datalore":{
     "node_id":"HAEkBC9gHvnGmNoXddStPS",
     "type":"CODE",
     "hide_input_from_viewers":false,
     "hide_output_from_viewers":false
    }
   }
  },
  {
   "cell_type":"code",
   "source":[
    "# merge DataFrames\n",
    "left = {\n",
    "    'key' : [1,2,3,4] ,\n",
    "    'name' : ['park','joe','jane','anna'],\n",
    "    'age' : [25,28,30,22]\n",
    "}\n",
    "right={\n",
    "    'key' : [1,2,3,4],\n",
    "    'city' :['Bangkok','London','Seoul','Tokyo'],\n",
    "    'zip' : [1001,2504,2094,9802]\n",
    "}\n",
    "df_left = pd.DataFrame(left)\n",
    "df_right = pd.DataFrame(right)"
   ],
   "execution_count":44,
   "outputs":[
    
   ],
   "metadata":{
    "datalore":{
     "node_id":"59bMmxaeJvBDRrWWH5no4I",
     "type":"CODE",
     "hide_input_from_viewers":false,
     "hide_output_from_viewers":false
    }
   }
  },
  {
   "cell_type":"code",
   "source":[
    "df_left"
   ],
   "execution_count":45,
   "outputs":[
    {
     "data":{
      "text\/html":[
       "<div>\n",
       "<style scoped>\n",
       "    .dataframe tbody tr th:only-of-type {\n",
       "        vertical-align: middle;\n",
       "    }\n",
       "\n",
       "    .dataframe tbody tr th {\n",
       "        vertical-align: top;\n",
       "    }\n",
       "\n",
       "    .dataframe thead th {\n",
       "        text-align: right;\n",
       "    }\n",
       "<\/style>\n",
       "<table border=\"1\" class=\"dataframe\">\n",
       "  <thead>\n",
       "    <tr style=\"text-align: right;\">\n",
       "      <th><\/th>\n",
       "      <th>key<\/th>\n",
       "      <th>name<\/th>\n",
       "      <th>age<\/th>\n",
       "    <\/tr>\n",
       "  <\/thead>\n",
       "  <tbody>\n",
       "    <tr>\n",
       "      <th>0<\/th>\n",
       "      <td>1<\/td>\n",
       "      <td>park<\/td>\n",
       "      <td>25<\/td>\n",
       "    <\/tr>\n",
       "    <tr>\n",
       "      <th>1<\/th>\n",
       "      <td>2<\/td>\n",
       "      <td>joe<\/td>\n",
       "      <td>28<\/td>\n",
       "    <\/tr>\n",
       "    <tr>\n",
       "      <th>2<\/th>\n",
       "      <td>3<\/td>\n",
       "      <td>jane<\/td>\n",
       "      <td>30<\/td>\n",
       "    <\/tr>\n",
       "    <tr>\n",
       "      <th>3<\/th>\n",
       "      <td>4<\/td>\n",
       "      <td>anna<\/td>\n",
       "      <td>22<\/td>\n",
       "    <\/tr>\n",
       "  <\/tbody>\n",
       "<\/table>\n",
       "<\/div>"
      ]
     },
     "metadata":{
      
     },
     "output_type":"display_data"
    }
   ],
   "metadata":{
    "datalore":{
     "node_id":"B0SmrkUPIItCiRUFb2swlJ",
     "type":"CODE",
     "hide_input_from_viewers":false,
     "hide_output_from_viewers":false
    }
   }
  },
  {
   "cell_type":"code",
   "source":[
    "df_right"
   ],
   "execution_count":46,
   "outputs":[
    {
     "data":{
      "text\/html":[
       "<div>\n",
       "<style scoped>\n",
       "    .dataframe tbody tr th:only-of-type {\n",
       "        vertical-align: middle;\n",
       "    }\n",
       "\n",
       "    .dataframe tbody tr th {\n",
       "        vertical-align: top;\n",
       "    }\n",
       "\n",
       "    .dataframe thead th {\n",
       "        text-align: right;\n",
       "    }\n",
       "<\/style>\n",
       "<table border=\"1\" class=\"dataframe\">\n",
       "  <thead>\n",
       "    <tr style=\"text-align: right;\">\n",
       "      <th><\/th>\n",
       "      <th>key<\/th>\n",
       "      <th>city<\/th>\n",
       "      <th>zip<\/th>\n",
       "    <\/tr>\n",
       "  <\/thead>\n",
       "  <tbody>\n",
       "    <tr>\n",
       "      <th>0<\/th>\n",
       "      <td>1<\/td>\n",
       "      <td>Bangkok<\/td>\n",
       "      <td>1001<\/td>\n",
       "    <\/tr>\n",
       "    <tr>\n",
       "      <th>1<\/th>\n",
       "      <td>2<\/td>\n",
       "      <td>London<\/td>\n",
       "      <td>2504<\/td>\n",
       "    <\/tr>\n",
       "    <tr>\n",
       "      <th>2<\/th>\n",
       "      <td>3<\/td>\n",
       "      <td>Seoul<\/td>\n",
       "      <td>2094<\/td>\n",
       "    <\/tr>\n",
       "    <tr>\n",
       "      <th>3<\/th>\n",
       "      <td>4<\/td>\n",
       "      <td>Tokyo<\/td>\n",
       "      <td>9802<\/td>\n",
       "    <\/tr>\n",
       "  <\/tbody>\n",
       "<\/table>\n",
       "<\/div>"
      ]
     },
     "metadata":{
      
     },
     "output_type":"display_data"
    }
   ],
   "metadata":{
    "datalore":{
     "node_id":"gAZikYLJYXeTIS17uWvrZF",
     "type":"CODE",
     "hide_input_from_viewers":false,
     "hide_output_from_viewers":false
    }
   }
  },
  {
   "cell_type":"code",
   "source":[
    "df_result = pd.merge(df_left,df_right,on='key')\n",
    "df_result"
   ],
   "execution_count":48,
   "outputs":[
    {
     "data":{
      "text\/html":[
       "<div>\n",
       "<style scoped>\n",
       "    .dataframe tbody tr th:only-of-type {\n",
       "        vertical-align: middle;\n",
       "    }\n",
       "\n",
       "    .dataframe tbody tr th {\n",
       "        vertical-align: top;\n",
       "    }\n",
       "\n",
       "    .dataframe thead th {\n",
       "        text-align: right;\n",
       "    }\n",
       "<\/style>\n",
       "<table border=\"1\" class=\"dataframe\">\n",
       "  <thead>\n",
       "    <tr style=\"text-align: right;\">\n",
       "      <th><\/th>\n",
       "      <th>key<\/th>\n",
       "      <th>name<\/th>\n",
       "      <th>age<\/th>\n",
       "      <th>city<\/th>\n",
       "      <th>zip<\/th>\n",
       "    <\/tr>\n",
       "  <\/thead>\n",
       "  <tbody>\n",
       "    <tr>\n",
       "      <th>0<\/th>\n",
       "      <td>1<\/td>\n",
       "      <td>park<\/td>\n",
       "      <td>25<\/td>\n",
       "      <td>Bangkok<\/td>\n",
       "      <td>1001<\/td>\n",
       "    <\/tr>\n",
       "    <tr>\n",
       "      <th>1<\/th>\n",
       "      <td>2<\/td>\n",
       "      <td>joe<\/td>\n",
       "      <td>28<\/td>\n",
       "      <td>London<\/td>\n",
       "      <td>2504<\/td>\n",
       "    <\/tr>\n",
       "    <tr>\n",
       "      <th>2<\/th>\n",
       "      <td>3<\/td>\n",
       "      <td>jane<\/td>\n",
       "      <td>30<\/td>\n",
       "      <td>Seoul<\/td>\n",
       "      <td>2094<\/td>\n",
       "    <\/tr>\n",
       "    <tr>\n",
       "      <th>3<\/th>\n",
       "      <td>4<\/td>\n",
       "      <td>anna<\/td>\n",
       "      <td>22<\/td>\n",
       "      <td>Tokyo<\/td>\n",
       "      <td>9802<\/td>\n",
       "    <\/tr>\n",
       "  <\/tbody>\n",
       "<\/table>\n",
       "<\/div>"
      ]
     },
     "metadata":{
      
     },
     "output_type":"display_data"
    }
   ],
   "metadata":{
    "datalore":{
     "node_id":"U20rAp4DFBrV4dIDIlxtqV",
     "type":"CODE",
     "hide_input_from_viewers":false,
     "hide_output_from_viewers":false
    }
   }
  },
  {
   "cell_type":"code",
   "source":[
    "# histogram one column\n",
    "penguins['body_mass_g'].plot(kind= 'hist')"
   ],
   "execution_count":49,
   "outputs":[
    {
     "data":{
      "text\/plain":[
       "<AxesSubplot:ylabel='Frequency'>"
      ]
     },
     "metadata":{
      
     },
     "output_type":"display_data"
    },
    {
     "data":{
      "image\/png":"[encoded data removed]"
     },
     "metadata":{
      "image\/png":{
       
      }
     },
     "output_type":"display_data"
    }
   ],
   "metadata":{
    "datalore":{
     "node_id":"E9T5AaDs8dneV9UGy2OW29",
     "type":"CODE",
     "hide_input_from_viewers":false,
     "hide_output_from_viewers":false
    }
   }
  },
  {
   "cell_type":"code",
   "source":[
    "# histogram two columns\n",
    "penguins[['body_mass_g','bill_length_mm']].plot(kind= 'hist',bins=30)"
   ],
   "execution_count":51,
   "outputs":[
    {
     "data":{
      "text\/plain":[
       "<AxesSubplot:ylabel='Frequency'>"
      ]
     },
     "metadata":{
      
     },
     "output_type":"display_data"
    },
    {
     "data":{
      "image\/png":"[encoded data removed]"
     },
     "metadata":{
      "image\/png":{
       
      }
     },
     "output_type":"display_data"
    }
   ],
   "metadata":{
    "datalore":{
     "node_id":"vyYNqbUE2XpxHxdDR6y2Ui",
     "type":"CODE",
     "hide_input_from_viewers":false,
     "hide_output_from_viewers":false
    }
   }
  },
  {
   "cell_type":"code",
   "source":[
    "penguins['bill_length_mm'].plot(kind= 'hist',bins=30,color = \"salmon\")"
   ],
   "execution_count":53,
   "outputs":[
    {
     "data":{
      "text\/plain":[
       "<AxesSubplot:ylabel='Frequency'>"
      ]
     },
     "metadata":{
      
     },
     "output_type":"display_data"
    },
    {
     "data":{
      "image\/png":"[encoded data removed]"
     },
     "metadata":{
      "image\/png":{
       
      }
     },
     "output_type":"display_data"
    }
   ],
   "metadata":{
    "datalore":{
     "node_id":"9oChtfatITL7RiMh9BtonY",
     "type":"CODE",
     "hide_input_from_viewers":false,
     "hide_output_from_viewers":false
    }
   }
  },
  {
   "cell_type":"code",
   "source":[
    "# bar plot for species\n",
    "penguins['species'].value_counts().plot(kind='bar',color=['salmon','orange','gold'])"
   ],
   "execution_count":54,
   "outputs":[
    {
     "data":{
      "text\/plain":[
       "<AxesSubplot:>"
      ]
     },
     "metadata":{
      
     },
     "output_type":"display_data"
    },
    {
     "data":{
      "image\/png":"[encoded data removed]"
     },
     "metadata":{
      "image\/png":{
       
      }
     },
     "output_type":"display_data"
    }
   ],
   "metadata":{
    "datalore":{
     "node_id":"DzWzpGtZAOVrF6658pDiL5",
     "type":"CODE",
     "hide_input_from_viewers":false,
     "hide_output_from_viewers":false
    }
   }
  },
  {
   "cell_type":"code",
   "source":[
    "# scatter plot\n",
    "penguins[['bill_length_mm','bill_depth_mm']]\\\n",
    "    .plot(x ='bill_length_mm',y = 'bill_depth_mm',kind=\"scatter\",color = 'salmon' )"
   ],
   "execution_count":55,
   "outputs":[
    {
     "data":{
      "text\/plain":[
       "<AxesSubplot:xlabel='bill_length_mm', ylabel='bill_depth_mm'>"
      ]
     },
     "metadata":{
      
     },
     "output_type":"display_data"
    },
    {
     "data":{
      "image\/png":"[encoded data removed]"
     },
     "metadata":{
      "image\/png":{
       
      }
     },
     "output_type":"display_data"
    }
   ],
   "metadata":{
    "datalore":{
     "node_id":"SYeHU5DTN6M0ZCKfmnHLE4",
     "type":"CODE",
     "hide_input_from_viewers":false,
     "hide_output_from_viewers":false
    }
   }
  },
  {
   "cell_type":"code",
   "source":[
    "penguins"
   ],
   "execution_count":56,
   "outputs":[
    {
     "data":{
      "text\/html":[
       "<div>\n",
       "<style scoped>\n",
       "    .dataframe tbody tr th:only-of-type {\n",
       "        vertical-align: middle;\n",
       "    }\n",
       "\n",
       "    .dataframe tbody tr th {\n",
       "        vertical-align: top;\n",
       "    }\n",
       "\n",
       "    .dataframe thead th {\n",
       "        text-align: right;\n",
       "    }\n",
       "<\/style>\n",
       "<table border=\"1\" class=\"dataframe\">\n",
       "  <thead>\n",
       "    <tr style=\"text-align: right;\">\n",
       "      <th><\/th>\n",
       "      <th>species<\/th>\n",
       "      <th>island<\/th>\n",
       "      <th>bill_length_mm<\/th>\n",
       "      <th>bill_depth_mm<\/th>\n",
       "      <th>flipper_length_mm<\/th>\n",
       "      <th>body_mass_g<\/th>\n",
       "      <th>sex<\/th>\n",
       "      <th>sex_new<\/th>\n",
       "    <\/tr>\n",
       "  <\/thead>\n",
       "  <tbody>\n",
       "    <tr>\n",
       "      <th>0<\/th>\n",
       "      <td>Adelie<\/td>\n",
       "      <td>Torgersen<\/td>\n",
       "      <td>39.1<\/td>\n",
       "      <td>18.7<\/td>\n",
       "      <td>181.0<\/td>\n",
       "      <td>3750.0<\/td>\n",
       "      <td>MALE<\/td>\n",
       "      <td>m<\/td>\n",
       "    <\/tr>\n",
       "    <tr>\n",
       "      <th>1<\/th>\n",
       "      <td>Adelie<\/td>\n",
       "      <td>Torgersen<\/td>\n",
       "      <td>39.5<\/td>\n",
       "      <td>17.4<\/td>\n",
       "      <td>186.0<\/td>\n",
       "      <td>3800.0<\/td>\n",
       "      <td>FEMALE<\/td>\n",
       "      <td>f<\/td>\n",
       "    <\/tr>\n",
       "    <tr>\n",
       "      <th>2<\/th>\n",
       "      <td>Adelie<\/td>\n",
       "      <td>Torgersen<\/td>\n",
       "      <td>40.3<\/td>\n",
       "      <td>18.0<\/td>\n",
       "      <td>195.0<\/td>\n",
       "      <td>3250.0<\/td>\n",
       "      <td>FEMALE<\/td>\n",
       "      <td>f<\/td>\n",
       "    <\/tr>\n",
       "    <tr>\n",
       "      <th>3<\/th>\n",
       "      <td>Adelie<\/td>\n",
       "      <td>Torgersen<\/td>\n",
       "      <td>NaN<\/td>\n",
       "      <td>NaN<\/td>\n",
       "      <td>NaN<\/td>\n",
       "      <td>NaN<\/td>\n",
       "      <td>NaN<\/td>\n",
       "      <td>other<\/td>\n",
       "    <\/tr>\n",
       "    <tr>\n",
       "      <th>4<\/th>\n",
       "      <td>Adelie<\/td>\n",
       "      <td>Torgersen<\/td>\n",
       "      <td>36.7<\/td>\n",
       "      <td>19.3<\/td>\n",
       "      <td>193.0<\/td>\n",
       "      <td>3450.0<\/td>\n",
       "      <td>FEMALE<\/td>\n",
       "      <td>f<\/td>\n",
       "    <\/tr>\n",
       "    <tr>\n",
       "      <th>...<\/th>\n",
       "      <td>...<\/td>\n",
       "      <td>...<\/td>\n",
       "      <td>...<\/td>\n",
       "      <td>...<\/td>\n",
       "      <td>...<\/td>\n",
       "      <td>...<\/td>\n",
       "      <td>...<\/td>\n",
       "      <td>...<\/td>\n",
       "    <\/tr>\n",
       "    <tr>\n",
       "      <th>339<\/th>\n",
       "      <td>Gentoo<\/td>\n",
       "      <td>Biscoe<\/td>\n",
       "      <td>NaN<\/td>\n",
       "      <td>NaN<\/td>\n",
       "      <td>NaN<\/td>\n",
       "      <td>NaN<\/td>\n",
       "      <td>NaN<\/td>\n",
       "      <td>other<\/td>\n",
       "    <\/tr>\n",
       "    <tr>\n",
       "      <th>340<\/th>\n",
       "      <td>Gentoo<\/td>\n",
       "      <td>Biscoe<\/td>\n",
       "      <td>46.8<\/td>\n",
       "      <td>14.3<\/td>\n",
       "      <td>215.0<\/td>\n",
       "      <td>4850.0<\/td>\n",
       "      <td>FEMALE<\/td>\n",
       "      <td>f<\/td>\n",
       "    <\/tr>\n",
       "    <tr>\n",
       "      <th>341<\/th>\n",
       "      <td>Gentoo<\/td>\n",
       "      <td>Biscoe<\/td>\n",
       "      <td>50.4<\/td>\n",
       "      <td>15.7<\/td>\n",
       "      <td>222.0<\/td>\n",
       "      <td>5750.0<\/td>\n",
       "      <td>MALE<\/td>\n",
       "      <td>m<\/td>\n",
       "    <\/tr>\n",
       "    <tr>\n",
       "      <th>342<\/th>\n",
       "      <td>Gentoo<\/td>\n",
       "      <td>Biscoe<\/td>\n",
       "      <td>45.2<\/td>\n",
       "      <td>14.8<\/td>\n",
       "      <td>212.0<\/td>\n",
       "      <td>5200.0<\/td>\n",
       "      <td>FEMALE<\/td>\n",
       "      <td>f<\/td>\n",
       "    <\/tr>\n",
       "    <tr>\n",
       "      <th>343<\/th>\n",
       "      <td>Gentoo<\/td>\n",
       "      <td>Biscoe<\/td>\n",
       "      <td>49.9<\/td>\n",
       "      <td>16.1<\/td>\n",
       "      <td>213.0<\/td>\n",
       "      <td>5400.0<\/td>\n",
       "      <td>MALE<\/td>\n",
       "      <td>m<\/td>\n",
       "    <\/tr>\n",
       "  <\/tbody>\n",
       "<\/table>\n",
       "<p>344 rows × 8 columns<\/p>\n",
       "<\/div>"
      ]
     },
     "metadata":{
      
     },
     "output_type":"display_data"
    }
   ],
   "metadata":{
    "datalore":{
     "node_id":"PNAyVgRiNv4Nfd4Wse7EwK",
     "type":"CODE",
     "hide_input_from_viewers":false,
     "hide_output_from_viewers":false
    }
   }
  }
 ],
 "metadata":{
  "kernelspec":{
   "display_name":"Python",
   "language":"python",
   "name":"python"
  },
  "datalore":{
   "version":1,
   "computation_mode":"JUPYTER",
   "package_manager":"pip",
   "base_environment":"default",
   "packages":[
    
   ]
  }
 },
 "nbformat":4,
 "nbformat_minor":4
}